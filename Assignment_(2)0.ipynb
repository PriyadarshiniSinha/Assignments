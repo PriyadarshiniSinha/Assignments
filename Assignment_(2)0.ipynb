{
  "nbformat": 4,
  "nbformat_minor": 0,
  "metadata": {
    "colab": {
      "provenance": []
    },
    "kernelspec": {
      "name": "python3",
      "display_name": "Python 3"
    },
    "language_info": {
      "name": "python"
    }
  },
  "cells": [
    {
      "cell_type": "code",
      "execution_count": null,
      "metadata": {
        "id": "3kHEJhjS4OPN"
      },
      "outputs": [],
      "source": []
    },
    {
      "cell_type": "markdown",
      "source": [
        "1. What are data structures, and why are they important?\n",
        "\n",
        "Data structures are ways of organizing and storing data so that operations like access, insertion, deletion, and traversal can be performed efficiently. They’re important because they help manage and optimize data handling in software programs, enabling better performance and scalability."
      ],
      "metadata": {
        "id": "zWBR5y7-4Xiv"
      }
    },
    {
      "cell_type": "markdown",
      "source": [
        "2. Explain the difference between mutable and immutable data types with examples.\n",
        "\n",
        "Mutable: Can be changed after creation. Example: list, dict, set."
      ],
      "metadata": {
        "id": "zKKhxN434lYT"
      }
    },
    {
      "cell_type": "code",
      "source": [
        "my_list = [1,2]\n",
        "my_list.append(3)"
      ],
      "metadata": {
        "id": "zdwV6KfE5Uyc"
      },
      "execution_count": null,
      "outputs": []
    },
    {
      "cell_type": "markdown",
      "source": [
        "Immutable: Cannot be changed after creation. Example: int, str, tuple."
      ],
      "metadata": {
        "id": "KR40U7dq5Vgh"
      }
    },
    {
      "cell_type": "code",
      "source": [
        "my_str = \"hello\"\n",
        "my_str[0] = 'H'\n",
        "# Error: Strings are immutable"
      ],
      "metadata": {
        "id": "qDeormbJ5ZPx"
      },
      "execution_count": null,
      "outputs": []
    },
    {
      "cell_type": "markdown",
      "source": [
        "3. What are the main differences between lists and tuples in Python?\n",
        "\n",
        "| Feature     | List         | Tuple       |\n",
        "| ----------- | ------------ | ----------- |\n",
        "| Mutability  | Mutable      | Immutable   |\n",
        "| Syntax      | `[1, 2, 3]`  | `(1, 2, 3)` |\n",
        "| Performance | Slower       | Faster      |\n",
        "| Use Case    | Dynamic data | Fixed data  |\n"
      ],
      "metadata": {
        "id": "j23d_nA253H2"
      }
    },
    {
      "cell_type": "markdown",
      "source": [
        "4. Describe how dictionaries store data.\n",
        "\n",
        "Dictionaries store data as key-value pairs. Under the hood, they use a hash table to map keys to values, allowing fast lookups:"
      ],
      "metadata": {
        "id": "nSW09S2g6Ndz"
      }
    },
    {
      "cell_type": "code",
      "source": [
        "my_dict = {'name': 'Alice', 'age': 25}"
      ],
      "metadata": {
        "id": "93wg7Xj36Vco"
      },
      "execution_count": 4,
      "outputs": []
    },
    {
      "cell_type": "markdown",
      "source": [
        "5. Why might you use a set instead of a list in Python?\n",
        "\n",
        "To automatically remove duplicates.\n",
        "\n",
        "To perform fast membership tests.\n",
        "\n",
        "To perform set operations like union, intersection, etc."
      ],
      "metadata": {
        "id": "yLgauDLX6gS0"
      }
    },
    {
      "cell_type": "code",
      "source": [
        "set([1,2,3,4])"
      ],
      "metadata": {
        "colab": {
          "base_uri": "https://localhost:8080/"
        },
        "id": "28JLf-oE65P6",
        "outputId": "2b527afa-dda6-4725-b30b-21e0530f18d1"
      },
      "execution_count": 5,
      "outputs": [
        {
          "output_type": "execute_result",
          "data": {
            "text/plain": [
              "{1, 2, 3, 4}"
            ]
          },
          "metadata": {},
          "execution_count": 5
        }
      ]
    },
    {
      "cell_type": "markdown",
      "source": [
        "6. What is a string in Python, and how is it different from a list?\n",
        "\n",
        "A string is an immutable sequence of characters, while a list is a mutable sequence that can hold any data type."
      ],
      "metadata": {
        "id": "9gxv-VW87CW_"
      }
    },
    {
      "cell_type": "code",
      "source": [
        "s = \"hello\"\n",
        "l = ['h', 'e', 'l', 'l', 'o']"
      ],
      "metadata": {
        "id": "bkFV8OUe7frN"
      },
      "execution_count": 6,
      "outputs": []
    },
    {
      "cell_type": "markdown",
      "source": [
        "7. How do tuples ensure data integrity in Python?\n",
        "\n",
        "Tuples are immutable, so once created, their contents can't be changed. This prevents accidental data modification and makes them ideal for fixed data collections.\n",
        "\n"
      ],
      "metadata": {
        "id": "ooS4w05v7ijD"
      }
    },
    {
      "cell_type": "markdown",
      "source": [
        "8. What is a hash table, and how does it relate to dictionaries in Python?\n",
        "\n",
        "A hash table is a data structure that maps keys to values using a hash function. Python’s dict uses a hash table internally for O(1) average time complexity in lookups."
      ],
      "metadata": {
        "id": "7hZ1GTJa72LY"
      }
    },
    {
      "cell_type": "markdown",
      "source": [
        "9. Can lists contain different data types in Python?\n",
        "\n",
        "Yes. Lists in Python are heterogeneous:"
      ],
      "metadata": {
        "id": "Db363zAm8Lz_"
      }
    },
    {
      "cell_type": "code",
      "source": [
        "m_list = [1,\"hello,3.14,True\"]"
      ],
      "metadata": {
        "id": "opEK2-Aa8Ov9"
      },
      "execution_count": 7,
      "outputs": []
    },
    {
      "cell_type": "markdown",
      "source": [
        "10. Explain why strings are immutable in Python.\n",
        "\n",
        "Strings are immutable to:\n",
        "\n",
        "Ensure thread safety\n",
        "\n",
        "Improve performance (due to internal optimizations)\n",
        "\n",
        "Allow hashability for use as dictionary keys"
      ],
      "metadata": {
        "id": "I9smYUfr8X73"
      }
    },
    {
      "cell_type": "markdown",
      "source": [
        "11. What advantages do dictionaries offer over lists for certain tasks?\n",
        "\n",
        "Faster lookups by key (O(1) vs O(n)).\n",
        "\n",
        "Semantic clarity when using named keys.\n",
        "\n",
        "Ideal for structured data, like JSON."
      ],
      "metadata": {
        "id": "pC0LTIJV8iXp"
      }
    },
    {
      "cell_type": "markdown",
      "source": [
        "12. How do sets handle duplicate values in Python?\n",
        "\n",
        "Sets automatically discard duplicates:"
      ],
      "metadata": {
        "id": "_j4aSDTE8qpT"
      }
    },
    {
      "cell_type": "code",
      "source": [
        "set([1,2,2,3])"
      ],
      "metadata": {
        "colab": {
          "base_uri": "https://localhost:8080/"
        },
        "id": "3PwS4Q2j8wgZ",
        "outputId": "2afd4519-22c4-4335-dd31-b761dd6323b4"
      },
      "execution_count": 8,
      "outputs": [
        {
          "output_type": "execute_result",
          "data": {
            "text/plain": [
              "{1, 2, 3}"
            ]
          },
          "metadata": {},
          "execution_count": 8
        }
      ]
    },
    {
      "cell_type": "markdown",
      "source": [
        "13. Describe a scenario where using a tuple would be preferable over a list.\n",
        "\n",
        "Use a tuple when:\n",
        "\n",
        "Data should not change (e.g., coordinates, RGB values).\n",
        "\n",
        "You want to use it as a dictionary key."
      ],
      "metadata": {
        "id": "nR2T6Cdh832P"
      }
    },
    {
      "cell_type": "code",
      "source": [
        "location = (28.61,77.20)\n",
        "#Latitude & Longitude"
      ],
      "metadata": {
        "id": "aYdEoynW9AlB"
      },
      "execution_count": null,
      "outputs": []
    },
    {
      "cell_type": "markdown",
      "source": [
        "14. How does the “in” keyword work differently for lists and dictionaries?\n",
        "\n",
        "List: Checks if a value is in the list.\n",
        "\n",
        "Dictionary: Checks if a key exists (not value)."
      ],
      "metadata": {
        "id": "cn4pASdr9K1G"
      }
    },
    {
      "cell_type": "code",
      "source": [
        "2 in [1,2,3] #True\n",
        "'name' in {'name': 'A'} #True\n",
        "'A' in {'name': 'A'} #False"
      ],
      "metadata": {
        "colab": {
          "base_uri": "https://localhost:8080/"
        },
        "id": "DNyWwHPE9RD5",
        "outputId": "4d7ff6f6-f125-4d48-ead2-1859f394452b"
      },
      "execution_count": 9,
      "outputs": [
        {
          "output_type": "execute_result",
          "data": {
            "text/plain": [
              "False"
            ]
          },
          "metadata": {},
          "execution_count": 9
        }
      ]
    },
    {
      "cell_type": "markdown",
      "source": [
        "15. Can you modify the elements of a tuple? Explain why or why not.\n",
        "\n",
        "No. Tuples are immutable, so their contents can't be modified after creation:"
      ],
      "metadata": {
        "id": "DlJGDP-c9lRf"
      }
    },
    {
      "cell_type": "code",
      "source": [
        "t = (1, 2, 3)\n",
        "t[0] = 10  # Error"
      ],
      "metadata": {
        "id": "EGLQdcnI98sT"
      },
      "execution_count": null,
      "outputs": []
    },
    {
      "cell_type": "markdown",
      "source": [
        "16. What is a nested dictionary, and give an example of its use case.\n",
        "\n",
        "A nested dictionary contains dictionaries as values.\n",
        "Use case: Representing structured data like employee records:"
      ],
      "metadata": {
        "id": "pDvP8o4H9-Wz"
      }
    },
    {
      "cell_type": "code",
      "source": [
        "employees = {\n",
        "  'emp1': {'name': 'Alice', 'age': 30},\n",
        "  'emp2': {'name': 'Bob', 'age': 25}\n",
        "}"
      ],
      "metadata": {
        "id": "atGby7tn-0Wq"
      },
      "execution_count": 12,
      "outputs": []
    },
    {
      "cell_type": "markdown",
      "source": [
        "17. Describe the time complexity of accessing elements in a dictionary.\n",
        "\n",
        "Average case: O(1)\n",
        "\n",
        "Worst case (due to collisions): O(n)"
      ],
      "metadata": {
        "id": "xWO5IYMu-3ZM"
      }
    },
    {
      "cell_type": "markdown",
      "source": [
        "18. In what situations are lists preferred over dictionaries?\n",
        "\n",
        "When order matters (pre-3.7 dictionaries were unordered).\n",
        "\n",
        "When you need a simple sequence of items.\n",
        "\n",
        "When keys are not necessary."
      ],
      "metadata": {
        "id": "KFTtAVnz-6n7"
      }
    },
    {
      "cell_type": "markdown",
      "source": [
        "19. Why are dictionaries considered unordered, and how does that affect data retrieval?\n",
        "\n",
        "Until Python 3.6, dictionaries were unordered. From Python 3.7+, they preserve insertion order, but conceptually still don't guarantee order-based operations like sorting."
      ],
      "metadata": {
        "id": "Z4hRiLIW_Bmv"
      }
    },
    {
      "cell_type": "markdown",
      "source": [
        "20. Explain the difference between a list and a dictionary in terms of data retrieval.\n",
        "\n",
        "List: Accessed by index (numeric).\n",
        "\n",
        "Dictionary: Accessed by key (string, number, tuple, etc.)."
      ],
      "metadata": {
        "id": "G3xN69iX_IZu"
      }
    },
    {
      "cell_type": "code",
      "source": [
        "my_list[0] #Index-based\n",
        "my_dict['name'] #Key-based"
      ],
      "metadata": {
        "id": "KLaEHHeI_OTU"
      },
      "execution_count": null,
      "outputs": []
    },
    {
      "cell_type": "markdown",
      "source": [
        "Practical Questions"
      ],
      "metadata": {
        "id": "BWbpneaG_eVr"
      }
    },
    {
      "cell_type": "markdown",
      "source": [
        "1. Create a string with your name and print it"
      ],
      "metadata": {
        "id": "uRKJj9rj_hZi"
      }
    },
    {
      "cell_type": "code",
      "source": [
        "name = \"Priyadarshini\"\n",
        "print(name)"
      ],
      "metadata": {
        "colab": {
          "base_uri": "https://localhost:8080/"
        },
        "id": "uuWG11U1_k3r",
        "outputId": "57d10bec-b6d3-4e0c-f814-be8dc7a87ad6"
      },
      "execution_count": 13,
      "outputs": [
        {
          "output_type": "stream",
          "name": "stdout",
          "text": [
            "Priyadarshini\n"
          ]
        }
      ]
    },
    {
      "cell_type": "markdown",
      "source": [
        "2. Find the length of the string \"Hello World\""
      ],
      "metadata": {
        "id": "eAIYreov_rpK"
      }
    },
    {
      "cell_type": "code",
      "source": [
        "print(len(\"Hello World\"))"
      ],
      "metadata": {
        "colab": {
          "base_uri": "https://localhost:8080/"
        },
        "id": "IDanbH8p_vPM",
        "outputId": "77865a76-ec05-49ae-b7f4-f4402dcc7d75"
      },
      "execution_count": 14,
      "outputs": [
        {
          "output_type": "stream",
          "name": "stdout",
          "text": [
            "11\n"
          ]
        }
      ]
    },
    {
      "cell_type": "markdown",
      "source": [
        "3. Slice the first first 3 characters from the string \"Python Programming\""
      ],
      "metadata": {
        "id": "gUHA2rEU_72d"
      }
    },
    {
      "cell_type": "code",
      "source": [
        "sliced = \"Python Programming\" [3]\n",
        "print(sliced)"
      ],
      "metadata": {
        "colab": {
          "base_uri": "https://localhost:8080/"
        },
        "id": "1xtPLf3JAGWk",
        "outputId": "f6d1b8fb-d88f-41d3-ac83-5eecc434fe75"
      },
      "execution_count": 15,
      "outputs": [
        {
          "output_type": "stream",
          "name": "stdout",
          "text": [
            "h\n"
          ]
        }
      ]
    },
    {
      "cell_type": "markdown",
      "source": [
        "4. Convert the string \"hello\" to uppercase"
      ],
      "metadata": {
        "id": "riXRTLVUAVkn"
      }
    },
    {
      "cell_type": "code",
      "source": [
        "print(\"hello\".upper())"
      ],
      "metadata": {
        "colab": {
          "base_uri": "https://localhost:8080/"
        },
        "id": "R0-rhfJtAZmw",
        "outputId": "64b12950-1a4f-42b1-de93-548283b44af9"
      },
      "execution_count": 16,
      "outputs": [
        {
          "output_type": "stream",
          "name": "stdout",
          "text": [
            "HELLO\n"
          ]
        }
      ]
    },
    {
      "cell_type": "markdown",
      "source": [
        "5. Replace the word \"apple\" with \"orange\" in the string \"I like apple\""
      ],
      "metadata": {
        "id": "IXOtDgwbAe0i"
      }
    },
    {
      "cell_type": "code",
      "source": [
        "print(\"I like apple\".replace(\"apple\",\"orange\"))"
      ],
      "metadata": {
        "colab": {
          "base_uri": "https://localhost:8080/"
        },
        "id": "TmacP4HEAuUZ",
        "outputId": "57ce450d-5ec1-4593-87aa-b3a08535f435"
      },
      "execution_count": 17,
      "outputs": [
        {
          "output_type": "stream",
          "name": "stdout",
          "text": [
            "I like orange\n"
          ]
        }
      ]
    },
    {
      "cell_type": "markdown",
      "source": [
        "6. Create a list with numbers 1 to 5 and print it"
      ],
      "metadata": {
        "id": "QRIhG2F3d4Rf"
      }
    },
    {
      "cell_type": "code",
      "source": [
        "my_list = [1,2,3,4,5]\n",
        "print (my_list)"
      ],
      "metadata": {
        "colab": {
          "base_uri": "https://localhost:8080/"
        },
        "id": "Roltcacjd9BW",
        "outputId": "cf0c3a72-c571-4d4c-877d-7b39ab24da22"
      },
      "execution_count": 18,
      "outputs": [
        {
          "output_type": "stream",
          "name": "stdout",
          "text": [
            "[1, 2, 3, 4, 5]\n"
          ]
        }
      ]
    },
    {
      "cell_type": "markdown",
      "source": [
        "7. Append the number 10 to the list [1,2,3,4]"
      ],
      "metadata": {
        "id": "IO6cyLc7eDsC"
      }
    },
    {
      "cell_type": "code",
      "source": [
        "list1 = [1, 2, 3, 4]\n",
        "list1.append(10)\n",
        "print(list1)"
      ],
      "metadata": {
        "colab": {
          "base_uri": "https://localhost:8080/"
        },
        "id": "Ix5fb--0eZrq",
        "outputId": "808b6c60-86e9-4f07-be65-5b9aee8e4384"
      },
      "execution_count": 20,
      "outputs": [
        {
          "output_type": "stream",
          "name": "stdout",
          "text": [
            "[1, 2, 3, 4, 10]\n"
          ]
        }
      ]
    },
    {
      "cell_type": "markdown",
      "source": [
        "8. Remove the number 3 from the list [1,2,3,4,5}"
      ],
      "metadata": {
        "id": "4n8pe7sXec4o"
      }
    },
    {
      "cell_type": "code",
      "source": [
        "list2 = [1,2,3,4,5]\n",
        "list2.remove(3)\n",
        "print(list2)"
      ],
      "metadata": {
        "colab": {
          "base_uri": "https://localhost:8080/"
        },
        "id": "WQkOeB6OeiVi",
        "outputId": "138a422f-927e-43b3-89cd-c774ad990bca"
      },
      "execution_count": 21,
      "outputs": [
        {
          "output_type": "stream",
          "name": "stdout",
          "text": [
            "[1, 2, 4, 5]\n"
          ]
        }
      ]
    },
    {
      "cell_type": "markdown",
      "source": [
        "9. Access the second element in the list ['a', 'b', 'c', 'd']"
      ],
      "metadata": {
        "id": "5-cebwLve1uR"
      }
    },
    {
      "cell_type": "code",
      "source": [
        "print(['a','b','c','d'][1])"
      ],
      "metadata": {
        "colab": {
          "base_uri": "https://localhost:8080/"
        },
        "id": "U3ZP0f4SfEoc",
        "outputId": "3113831f-ddfb-423b-8dc5-cdbeba54a555"
      },
      "execution_count": 22,
      "outputs": [
        {
          "output_type": "stream",
          "name": "stdout",
          "text": [
            "b\n"
          ]
        }
      ]
    },
    {
      "cell_type": "markdown",
      "source": [
        "10. Reverse the list [10, 20, 30, 40, 50]"
      ],
      "metadata": {
        "id": "VLHq2a8Tfa9H"
      }
    },
    {
      "cell_type": "code",
      "source": [
        "reversed_list = [10, 20, 30, 40, 50][::-1]\n",
        "print(reversed_list)"
      ],
      "metadata": {
        "colab": {
          "base_uri": "https://localhost:8080/"
        },
        "id": "z55RMF0PfeRz",
        "outputId": "a2d06170-addd-471a-c359-f09546f1f1c3"
      },
      "execution_count": 23,
      "outputs": [
        {
          "output_type": "stream",
          "name": "stdout",
          "text": [
            "[50, 40, 30, 20, 10]\n"
          ]
        }
      ]
    },
    {
      "cell_type": "markdown",
      "source": [
        "11. Create a tuple with the elements 100, 200, 300 and print it"
      ],
      "metadata": {
        "id": "cq2tGA6hfimw"
      }
    },
    {
      "cell_type": "code",
      "source": [
        "my_tuple = (100,200,300)\n",
        "print(my_tuple)"
      ],
      "metadata": {
        "colab": {
          "base_uri": "https://localhost:8080/"
        },
        "id": "6A4sFVZvflg_",
        "outputId": "acc87599-6dd3-43d1-e8ae-7ceb6cfb4bd1"
      },
      "execution_count": 25,
      "outputs": [
        {
          "output_type": "stream",
          "name": "stdout",
          "text": [
            "(100, 200, 300)\n"
          ]
        }
      ]
    },
    {
      "cell_type": "markdown",
      "source": [
        "12. Access the second-to-last element of the tuple ('red', 'green', 'blue', 'yellow')"
      ],
      "metadata": {
        "id": "6pkbm2DsfzDx"
      }
    },
    {
      "cell_type": "code",
      "source": [
        "colors = ('red','green','blue','yellow')\n",
        "print(colors[-2])"
      ],
      "metadata": {
        "colab": {
          "base_uri": "https://localhost:8080/"
        },
        "id": "0Nhmb8g7f3L6",
        "outputId": "1aa8066c-4f5d-4ce4-86b1-f6762cf7a7fc"
      },
      "execution_count": 26,
      "outputs": [
        {
          "output_type": "stream",
          "name": "stdout",
          "text": [
            "blue\n"
          ]
        }
      ]
    },
    {
      "cell_type": "markdown",
      "source": [
        "13. Find the minimum number in the tuple (10, 20, 5, 15)"
      ],
      "metadata": {
        "id": "cnv-gCqCgMHQ"
      }
    },
    {
      "cell_type": "code",
      "source": [
        "print(min(10,20,5,15))"
      ],
      "metadata": {
        "colab": {
          "base_uri": "https://localhost:8080/"
        },
        "id": "0cnY70sCgPex",
        "outputId": "dcd55794-7e14-467b-e6a6-b904b139dba3"
      },
      "execution_count": 27,
      "outputs": [
        {
          "output_type": "stream",
          "name": "stdout",
          "text": [
            "5\n"
          ]
        }
      ]
    },
    {
      "cell_type": "markdown",
      "source": [
        "14. Find the index of the element \"cat\" in the tuple ('dog', 'cat', 'rabbit')"
      ],
      "metadata": {
        "id": "ZyowXBz5gZg2"
      }
    },
    {
      "cell_type": "code",
      "source": [
        "print(('dog', 'cat', 'rabbit').index('cat'))"
      ],
      "metadata": {
        "colab": {
          "base_uri": "https://localhost:8080/"
        },
        "id": "kiQ9sga0gakF",
        "outputId": "65f4a5d1-2b6f-44c2-f282-edcead96c116"
      },
      "execution_count": 29,
      "outputs": [
        {
          "output_type": "stream",
          "name": "stdout",
          "text": [
            "1\n"
          ]
        }
      ]
    },
    {
      "cell_type": "markdown",
      "source": [
        "Create a tuple with three fruits and check if \"kiwi\" is in it"
      ],
      "metadata": {
        "id": "_MeFLucBgwOm"
      }
    },
    {
      "cell_type": "code",
      "source": [
        "fruits = ('apple', 'banana', 'mango')\n",
        "print('kiwi' in fruits)"
      ],
      "metadata": {
        "colab": {
          "base_uri": "https://localhost:8080/"
        },
        "id": "XiesbrsTgzSn",
        "outputId": "3443bb01-4b32-422f-fe57-e37bc088ce31"
      },
      "execution_count": 31,
      "outputs": [
        {
          "output_type": "stream",
          "name": "stdout",
          "text": [
            "False\n"
          ]
        }
      ]
    },
    {
      "cell_type": "markdown",
      "source": [
        "16. Create a set with the elements 'a', 'b', 'c' and print it"
      ],
      "metadata": {
        "id": "q8WhmKSwhGuf"
      }
    },
    {
      "cell_type": "code",
      "source": [
        "my_set = {'a','b','c'}\n",
        "print(my_set)"
      ],
      "metadata": {
        "colab": {
          "base_uri": "https://localhost:8080/"
        },
        "id": "zR1LoCRjhJ5F",
        "outputId": "dc73200d-7fe6-41d4-9b65-64140badfbbb"
      },
      "execution_count": 32,
      "outputs": [
        {
          "output_type": "stream",
          "name": "stdout",
          "text": [
            "{'a', 'c', 'b'}\n"
          ]
        }
      ]
    },
    {
      "cell_type": "markdown",
      "source": [
        "17. Clear all elements from the set {1, 2, 3, 4, 5}"
      ],
      "metadata": {
        "id": "3imo1yC3haH8"
      }
    },
    {
      "cell_type": "code",
      "source": [
        "s = {1,2,3,4,5}\n",
        "s.clear()\n",
        "print(s)"
      ],
      "metadata": {
        "colab": {
          "base_uri": "https://localhost:8080/"
        },
        "id": "xGthl-xchc43",
        "outputId": "d8cb14d7-f780-4140-869d-3311c7b979f9"
      },
      "execution_count": 33,
      "outputs": [
        {
          "output_type": "stream",
          "name": "stdout",
          "text": [
            "set()\n"
          ]
        }
      ]
    },
    {
      "cell_type": "markdown",
      "source": [
        "18. Remove the element 4 from the set {1, 2, 3, 4}"
      ],
      "metadata": {
        "id": "UYT2LFTHhlD8"
      }
    },
    {
      "cell_type": "code",
      "source": [
        "s = {1,2,3,4}\n",
        "s.remove(4)\n",
        "print(s)"
      ],
      "metadata": {
        "colab": {
          "base_uri": "https://localhost:8080/"
        },
        "id": "CKC91HHghn81",
        "outputId": "9c8b337f-6bc7-419f-b8ff-86fa7c2eb921"
      },
      "execution_count": 34,
      "outputs": [
        {
          "output_type": "stream",
          "name": "stdout",
          "text": [
            "{1, 2, 3}\n"
          ]
        }
      ]
    },
    {
      "cell_type": "markdown",
      "source": [
        "19. Find the union of two sets {1, 2, 3} and {3, 4, 5}"
      ],
      "metadata": {
        "id": "9juhivHLhv9n"
      }
    },
    {
      "cell_type": "code",
      "source": [
        "print({1,2,3}.union({3,4,5}))"
      ],
      "metadata": {
        "colab": {
          "base_uri": "https://localhost:8080/"
        },
        "id": "ikAKZzgUhyiR",
        "outputId": "b444621e-d12a-46ab-b575-66b1d6d18d35"
      },
      "execution_count": 35,
      "outputs": [
        {
          "output_type": "stream",
          "name": "stdout",
          "text": [
            "{1, 2, 3, 4, 5}\n"
          ]
        }
      ]
    },
    {
      "cell_type": "markdown",
      "source": [
        "20. Find the intersection of two sets {1, 2, 3} and {2, 3, 4}"
      ],
      "metadata": {
        "id": "AJqXKKQeh6O1"
      }
    },
    {
      "cell_type": "code",
      "source": [
        "print({1,2,3}.intersection({2,3,4}))"
      ],
      "metadata": {
        "colab": {
          "base_uri": "https://localhost:8080/"
        },
        "id": "FTzvFhF7h9xd",
        "outputId": "29fab1f0-903a-4e20-e5d9-02461f054e41"
      },
      "execution_count": 36,
      "outputs": [
        {
          "output_type": "stream",
          "name": "stdout",
          "text": [
            "{2, 3}\n"
          ]
        }
      ]
    },
    {
      "cell_type": "markdown",
      "source": [
        "21. Create a dictionary with the keys \"name\", \"age\", and \"city\", and print it"
      ],
      "metadata": {
        "id": "YK-L8sdciIz9"
      }
    },
    {
      "cell_type": "code",
      "source": [
        "person = {\"name\": \"John\", \"age\": 25, \"city\": \"New York\"}\n",
        "print(person)"
      ],
      "metadata": {
        "colab": {
          "base_uri": "https://localhost:8080/"
        },
        "id": "E_8a3g3UiNAK",
        "outputId": "054aa926-f6e0-48b2-f81d-0d07f100824a"
      },
      "execution_count": 38,
      "outputs": [
        {
          "output_type": "stream",
          "name": "stdout",
          "text": [
            "{'name': 'John', 'age': 25, 'city': 'New York'}\n"
          ]
        }
      ]
    },
    {
      "cell_type": "markdown",
      "source": [
        "22. Add a new key-value pair \"country\": \"USA\""
      ],
      "metadata": {
        "id": "STcotE5FihB1"
      }
    },
    {
      "cell_type": "code",
      "source": [
        "person = {'name': 'John', 'age': 25}\n",
        "person['country'] = 'USA'\n",
        "print(person)"
      ],
      "metadata": {
        "colab": {
          "base_uri": "https://localhost:8080/"
        },
        "id": "6sn1Czaziq09",
        "outputId": "8341ce4a-e63b-42c5-c210-f4c821f2c880"
      },
      "execution_count": 39,
      "outputs": [
        {
          "output_type": "stream",
          "name": "stdout",
          "text": [
            "{'name': 'John', 'age': 25, 'country': 'USA'}\n"
          ]
        }
      ]
    },
    {
      "cell_type": "markdown",
      "source": [
        "23. Access the value associated with the key \"name\""
      ],
      "metadata": {
        "id": "AriRvNwMitlc"
      }
    },
    {
      "cell_type": "code",
      "source": [
        "print({'name': 'Alice', 'age': 30}['name'])"
      ],
      "metadata": {
        "colab": {
          "base_uri": "https://localhost:8080/"
        },
        "id": "_otz2Beviygz",
        "outputId": "f4d6da3f-d7c2-4ec4-c279-db1f827794d6"
      },
      "execution_count": 41,
      "outputs": [
        {
          "output_type": "stream",
          "name": "stdout",
          "text": [
            "Alice\n"
          ]
        }
      ]
    },
    {
      "cell_type": "markdown",
      "source": [
        "24. Remove the key \"age\" from the dictionary"
      ],
      "metadata": {
        "id": "bwkvqyMjjBFl"
      }
    },
    {
      "cell_type": "code",
      "source": [
        "d = {'name': 'Bob', 'age': 22, 'city':'Network'}\n",
        "del d['age']\n",
        "print(d)"
      ],
      "metadata": {
        "colab": {
          "base_uri": "https://localhost:8080/"
        },
        "id": "gRDVLS3BjDrs",
        "outputId": "347f247c-2b7e-431c-a461-ea879419760d"
      },
      "execution_count": 43,
      "outputs": [
        {
          "output_type": "stream",
          "name": "stdout",
          "text": [
            "{'name': 'Bob', 'city': 'Network'}\n"
          ]
        }
      ]
    },
    {
      "cell_type": "markdown",
      "source": [
        "25. Check if the key \"city\" exists in the dictionary"
      ],
      "metadata": {
        "id": "olBpD-WPjb4O"
      }
    },
    {
      "cell_type": "code",
      "source": [
        "print('city' in {'name':'Alice','city':'Paris'})"
      ],
      "metadata": {
        "colab": {
          "base_uri": "https://localhost:8080/"
        },
        "id": "r23cbpCKjeOF",
        "outputId": "16518c3c-4a1e-4756-e820-2f9200c7b567"
      },
      "execution_count": 44,
      "outputs": [
        {
          "output_type": "stream",
          "name": "stdout",
          "text": [
            "True\n"
          ]
        }
      ]
    },
    {
      "cell_type": "markdown",
      "source": [
        "26. Create a list, a tuple, and a dictionary, and print them all"
      ],
      "metadata": {
        "id": "Rl2xOqasjrNd"
      }
    },
    {
      "cell_type": "code",
      "source": [
        "my_list = [1,2,3]\n",
        "my_tuple = (4,5,6)\n",
        "my_dict = {'a':1,'b':2}"
      ],
      "metadata": {
        "id": "PJoDq1enjve_"
      },
      "execution_count": 45,
      "outputs": []
    },
    {
      "cell_type": "markdown",
      "source": [
        "27. Create a list of 5 random numbers between 1 and 100, sort it, and print"
      ],
      "metadata": {
        "id": "D1GLI63Ir0sB"
      }
    },
    {
      "cell_type": "code",
      "source": [
        "import random\n",
        "rand_list = random.sample(range(1, 101), 5)\n",
        "rand_list.sort()\n",
        "print(rand_list)"
      ],
      "metadata": {
        "colab": {
          "base_uri": "https://localhost:8080/"
        },
        "id": "3XfEMz0Qr5n1",
        "outputId": "14377817-485c-469b-a912-99ca7d61871b"
      },
      "execution_count": 46,
      "outputs": [
        {
          "output_type": "stream",
          "name": "stdout",
          "text": [
            "[14, 56, 83, 90, 93]\n"
          ]
        }
      ]
    },
    {
      "cell_type": "markdown",
      "source": [
        "28. Create a list with strings and print the element at the third index"
      ],
      "metadata": {
        "id": "iSZAIZlQr_zP"
      }
    },
    {
      "cell_type": "code",
      "source": [
        "str_list = [\"apple\", \"banana\", \"cherry\", \"date\", \"elderberry\"]\n",
        "print(str_list[3])"
      ],
      "metadata": {
        "colab": {
          "base_uri": "https://localhost:8080/"
        },
        "id": "-Po4EhLHsC8J",
        "outputId": "859e1826-b349-4e82-886c-12e48e408e2f"
      },
      "execution_count": 47,
      "outputs": [
        {
          "output_type": "stream",
          "name": "stdout",
          "text": [
            "date\n"
          ]
        }
      ]
    },
    {
      "cell_type": "markdown",
      "source": [
        "29. Combine two dictionaries into one and print the result"
      ],
      "metadata": {
        "id": "8vqdRDJPsGyb"
      }
    },
    {
      "cell_type": "code",
      "source": [
        "d1 = {'a': 1, 'b': 2}\n",
        "d2 = {'c': 3, 'd': 4}\n",
        "combined = {**d1, **d2}\n",
        "print(combined)"
      ],
      "metadata": {
        "colab": {
          "base_uri": "https://localhost:8080/"
        },
        "id": "eDTeAnCwsI5Q",
        "outputId": "42aa17cd-3653-4f6a-c1fa-7883c6ada3a7"
      },
      "execution_count": 48,
      "outputs": [
        {
          "output_type": "stream",
          "name": "stdout",
          "text": [
            "{'a': 1, 'b': 2, 'c': 3, 'd': 4}\n"
          ]
        }
      ]
    },
    {
      "cell_type": "markdown",
      "source": [
        "30. Convert a list of strings into a set"
      ],
      "metadata": {
        "id": "fbN6Ylt3sLj-"
      }
    },
    {
      "cell_type": "code",
      "source": [
        "string_list = [\"apple\", \"banana\", \"apple\", \"cherry\"]\n",
        "print(set(string_list))"
      ],
      "metadata": {
        "colab": {
          "base_uri": "https://localhost:8080/"
        },
        "id": "_qDgn4-lsO6L",
        "outputId": "534897f0-b074-41c0-9598-b2d010e244d4"
      },
      "execution_count": 49,
      "outputs": [
        {
          "output_type": "stream",
          "name": "stdout",
          "text": [
            "{'banana', 'cherry', 'apple'}\n"
          ]
        }
      ]
    }
  ]
}