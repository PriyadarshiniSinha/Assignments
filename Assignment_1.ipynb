{
  "nbformat": 4,
  "nbformat_minor": 0,
  "metadata": {
    "colab": {
      "provenance": []
    },
    "kernelspec": {
      "name": "python3",
      "display_name": "Python 3"
    },
    "language_info": {
      "name": "python"
    }
  },
  "cells": [
    {
      "cell_type": "markdown",
      "source": [
        "1. What is Python, and why is it popular?\n",
        "Python is a high-level, interpreted programming language known for its simplicity and readability.\n",
        "Popularity reasons:\n",
        "\n",
        "Easy syntax (similar to English)\n",
        "\n",
        "Large standard library\n",
        "\n",
        "Wide community support\n",
        "\n",
        "Versatile: used in web development, data science, AI, automation, etc.\n"
      ],
      "metadata": {
        "id": "457mHhHzpnRZ"
      }
    },
    {
      "cell_type": "markdown",
      "source": [
        "2. What is an interpreter in Python?\n",
        "\n",
        "An interpreter in Python reads and executes the code line-by-line. Unlike compiled languages, Python doesn't need a separate compilation step.\n",
        "\n"
      ],
      "metadata": {
        "id": "YDW5Bhk_qBso"
      }
    },
    {
      "cell_type": "markdown",
      "source": [],
      "metadata": {
        "id": "Ov7T7exPqIBw"
      }
    },
    {
      "cell_type": "markdown",
      "source": [
        "3. What are pre-defined keywords in Python?\n",
        "\n",
        "Keywords are reserved words that have special meaning in Python syntax (e.g., if, for, class, def). Python has 35+ keywords, and they cannot be used as identifiers (variable names)."
      ],
      "metadata": {
        "id": "xjjlvRWDqXac"
      }
    },
    {
      "cell_type": "markdown",
      "source": [
        "4. Can keywords be used as variable names?\n",
        "\n",
        "Keywords are reserved words that have special meaning in Python syntax (e.g., if, for, class, def). Python has 35+ keywords, and they cannot be used as identifiers (variable names)"
      ],
      "metadata": {
        "id": "4s0u6kEeqgJ1"
      }
    },
    {
      "cell_type": "markdown",
      "source": [
        "4. Can keywords be used as variable names?\n",
        "\n",
        "No, keywords cannot be used as variable names. Doing so will result in a SyntaxError."
      ],
      "metadata": {
        "id": "6dY3X5sbqsLa"
      }
    },
    {
      "cell_type": "markdown",
      "source": [
        "5. What is mutability in Python?\n",
        "\n",
        "Mutability refers to whether an object’s content can be changed after it’s created.\n",
        "\n",
        "Mutable = can be changed (e.g., lists, dictionaries)\n",
        "\n",
        "Immutable = cannot be changed (e.g., tuples, strings)"
      ],
      "metadata": {
        "id": "JZ7E-XqqqxWv"
      }
    },
    {
      "cell_type": "markdown",
      "source": [
        "6. Why are lists mutable, but tuples are immutable?\n",
        "\n",
        "Lists are designed for flexibility, so you can add, remove, or change elements.\n",
        "\n",
        "Tuples are meant to be fixed and hashable (for use as dictionary keys, etc.), hence immutable for safety and efficiency."
      ],
      "metadata": {
        "id": "zRHS5_71q2ck"
      }
    },
    {
      "cell_type": "markdown",
      "source": [
        "7. What is the difference between “==” and “is” operators in Python?\n",
        "\n",
        "== checks value equality (do the objects have the same value?).\n",
        "\n",
        "is checks identity equality (do the objects point to the same memory location?)."
      ],
      "metadata": {
        "id": "iOaZub5Lq79r"
      }
    },
    {
      "cell_type": "code",
      "source": [
        "a = [1, 2]\n",
        "b = [1, 2]\n",
        "a == b  # True (same content)\n",
        "a is b  # False (different memory locations)\n"
      ],
      "metadata": {
        "colab": {
          "base_uri": "https://localhost:8080/"
        },
        "id": "baLiciz4rE23",
        "outputId": "04068ffc-7bc4-4be6-d6f4-113da96f39f3"
      },
      "execution_count": 16,
      "outputs": [
        {
          "output_type": "execute_result",
          "data": {
            "text/plain": [
              "False"
            ]
          },
          "metadata": {},
          "execution_count": 16
        }
      ]
    },
    {
      "cell_type": "markdown",
      "source": [
        "8. What are logical operators in Python?\n",
        "\n",
        "Python has 3 logical operators:\n",
        "\n",
        "and: True if both conditions are True\n",
        "\n",
        "or: True if at least one condition is True\n",
        "\n",
        "not: Inverts the Boolean value"
      ],
      "metadata": {
        "id": "CYQvJE2SrIca"
      }
    },
    {
      "cell_type": "markdown",
      "source": [
        "9. What is type casting in Python?\n",
        "\n",
        "Type casting means converting one data type into another. Example:"
      ],
      "metadata": {
        "id": "l0JPCMWtrPDR"
      }
    },
    {
      "cell_type": "code",
      "source": [
        "x = \"123\"\n",
        "int_x = int(x)  # Casts string to integer"
      ],
      "metadata": {
        "id": "JEggQx_qrUD2"
      },
      "execution_count": 17,
      "outputs": []
    },
    {
      "cell_type": "markdown",
      "source": [
        "10. What is the difference between implicit and explicit type casting?\n",
        "\n",
        "Implicit: Python automatically converts data type.\n"
      ],
      "metadata": {
        "id": "o3P4ABWurZA_"
      }
    },
    {
      "cell_type": "code",
      "source": [
        "x = 5 + 2.0  # int + float → result is float\n"
      ],
      "metadata": {
        "id": "MHRZ92OerhFs"
      },
      "execution_count": 18,
      "outputs": []
    },
    {
      "cell_type": "markdown",
      "source": [
        "Explicit: You manually convert using casting functions."
      ],
      "metadata": {
        "id": "EXH-ambcriuO"
      }
    },
    {
      "cell_type": "code",
      "source": [
        "int(\"10\"), float(\"3.14\")"
      ],
      "metadata": {
        "id": "DnSxeFXcrlUR",
        "colab": {
          "base_uri": "https://localhost:8080/"
        },
        "outputId": "5baf208b-d297-4640-a1be-f3b30603f00a"
      },
      "execution_count": 19,
      "outputs": [
        {
          "output_type": "execute_result",
          "data": {
            "text/plain": [
              "(10, 3.14)"
            ]
          },
          "metadata": {},
          "execution_count": 19
        }
      ]
    },
    {
      "cell_type": "markdown",
      "source": [
        "11. What is the purpose of conditional statements in Python?"
      ],
      "metadata": {
        "id": "e6vXYqAMrn2J"
      }
    },
    {
      "cell_type": "markdown",
      "source": [
        "Conditional statements (if, elif, else) allow a program to make decisions and execute certain blocks of code based on conditions."
      ],
      "metadata": {
        "id": "dQlMsCqprqta"
      }
    },
    {
      "cell_type": "markdown",
      "source": [
        "12. How does the elif statement work?\n",
        "\n",
        "elif (short for “else if”) checks another condition if the previous if condition is False. It's used for multiple branching."
      ],
      "metadata": {
        "id": "s2YeE2rrrtK4"
      }
    },
    {
      "cell_type": "code",
      "source": [
        "x = 10\n",
        "if x > 15:\n",
        "    print(\"Above 15\")\n",
        "elif x > 5:\n",
        "    print(\"Above 5 but 15 or less\")  # This will print\n",
        "else:\n",
        "    print(\"5 or below\")"
      ],
      "metadata": {
        "colab": {
          "base_uri": "https://localhost:8080/"
        },
        "id": "pwILVrVurzRL",
        "outputId": "71d6466c-41e9-4c50-c276-84f49e079329"
      },
      "execution_count": 20,
      "outputs": [
        {
          "output_type": "stream",
          "name": "stdout",
          "text": [
            "Above 5 but 15 or less\n"
          ]
        }
      ]
    },
    {
      "cell_type": "markdown",
      "source": [
        "13. What is the difference between for and while loops?\n",
        "\n",
        "for loop: Iterates over a sequence (like list, range, string).\n",
        "\n",
        "while loop: Repeats as long as a condition is True."
      ],
      "metadata": {
        "id": "Yxt23RgNr02e"
      }
    },
    {
      "cell_type": "code",
      "source": [
        "# For\n",
        "for i in range(3):\n",
        "    print(i)\n",
        "\n",
        "# While\n",
        "i = 0\n",
        "while i < 3:\n",
        "    print(i)\n",
        "    i += 1\n"
      ],
      "metadata": {
        "colab": {
          "base_uri": "https://localhost:8080/"
        },
        "id": "WhetHPTNsAgV",
        "outputId": "622fbabd-17c5-409d-9836-92ec58ee7c48"
      },
      "execution_count": 21,
      "outputs": [
        {
          "output_type": "stream",
          "name": "stdout",
          "text": [
            "0\n",
            "1\n",
            "2\n",
            "0\n",
            "1\n",
            "2\n"
          ]
        }
      ]
    },
    {
      "cell_type": "markdown",
      "source": [
        "14. Describe a scenario where a while loop is more suitable than a for loop.\n",
        "\n",
        "Scenario: You don't know in advance how many times to loop — e.g., wait for user to input a correct password:"
      ],
      "metadata": {
        "id": "35nVedPataFf"
      }
    },
    {
      "cell_type": "code",
      "source": [
        "password = \"\"\n",
        "while password != \"admin123\":\n",
        "    password = input(\"Enter password: \")\n",
        "print(\"Access granted!\")\n"
      ],
      "metadata": {
        "id": "IyJ-fkSMtewW"
      },
      "execution_count": null,
      "outputs": []
    },
    {
      "cell_type": "markdown",
      "source": [
        "Practical Questions"
      ],
      "metadata": {
        "id": "l1t_eVMqu4F9"
      }
    },
    {
      "cell_type": "markdown",
      "source": [
        "1. Write a Python program to print Hello World"
      ],
      "metadata": {
        "id": "WQva-lJIu6S5"
      }
    },
    {
      "cell_type": "code",
      "source": [
        "print (\"Hello World\")"
      ],
      "metadata": {
        "id": "KHCp4zm3u_92"
      },
      "execution_count": null,
      "outputs": []
    },
    {
      "cell_type": "markdown",
      "source": [
        "2. Display your name and age"
      ],
      "metadata": {
        "id": "QhXS8x9ewjc4"
      }
    },
    {
      "cell_type": "code",
      "source": [
        " name = Priyadarshini\n",
        " age = 25\n",
        " print (\"Name\", name)\n",
        " print (\"Age\", age)\n",
        ""
      ],
      "metadata": {
        "id": "_4n72X7Wwmag"
      },
      "execution_count": null,
      "outputs": []
    },
    {
      "cell_type": "markdown",
      "source": [
        "3. Print all pre-defined keywords using the keyword library"
      ],
      "metadata": {
        "id": "E5pM2E2TvEJ_"
      }
    },
    {
      "cell_type": "code",
      "source": [
        "import keyword\n",
        "print (\"python keywords\":)\n",
        "print (Keyword.kwlist)"
      ],
      "metadata": {
        "id": "DFeLD_YP6FWN"
      },
      "execution_count": null,
      "outputs": []
    },
    {
      "cell_type": "markdown",
      "source": [
        "4. Check if a word is a Python keyword"
      ],
      "metadata": {
        "id": "iHLTMAx37vy-"
      }
    },
    {
      "cell_type": "code",
      "source": [
        "import keyword\n",
        "\n",
        "word = input (\"Enter a word: \")\n",
        "if keyword.iskeyword (word):\n",
        "  print (word, \"is a python keyword\")\n",
        "else:\n",
        "  print (word, \"is not a python keyword\")"
      ],
      "metadata": {
        "id": "xbG9gJRT7zRC"
      },
      "execution_count": null,
      "outputs": []
    },
    {
      "cell_type": "markdown",
      "source": [
        "5. Difference in mutability: list vs tuple"
      ],
      "metadata": {
        "id": "n4ENnQt-8WZf"
      }
    },
    {
      "cell_type": "code",
      "source": [
        "my_list = [1,2,3]\n",
        "my_tuple = (1,2,3)\n",
        "\n",
        "#Modify list\n",
        "\n",
        "my_list[0] = 100\n",
        "print (\"modified list:\"my_list)\n",
        "\n",
        "#Try modifying tuple\n",
        "my_tuple[0] = 100\n",
        "except TypeError as e:\n",
        "    print(\"Error modifying tuple:\", e)"
      ],
      "metadata": {
        "id": "aSkxXL-Z8ZMQ"
      },
      "execution_count": null,
      "outputs": []
    },
    {
      "cell_type": "markdown",
      "source": [
        "6. Function to show mutable vs immutable arguments"
      ],
      "metadata": {
        "id": "yE4R-6Vq-ROE"
      }
    },
    {
      "cell_type": "code",
      "source": [
        "def modify_data(a,b):\n",
        "  a+b+1\n",
        "  b.apend(4)\n",
        "  print (\"inside function-a:\", a, \"b:\", b)\n",
        "  x = 10\n",
        "  y = [1,2,3]\n",
        "  modify_data(x,y)\n",
        "  print (\"Outside function - x:\", x, \"y:\", y)\n",
        "\n"
      ],
      "metadata": {
        "id": "4DBzEsma-Txq"
      },
      "execution_count": null,
      "outputs": []
    },
    {
      "cell_type": "markdown",
      "source": [
        "7. Arithmetic operations on user input"
      ],
      "metadata": {
        "id": "1LShcKh0Az9-"
      }
    },
    {
      "cell_type": "code",
      "source": [
        "a = float(input(\"Enter first number: \"))\n",
        "b = float(input(\"Enter second number: \"))\n",
        "\n",
        "print(\"Addition:\", a + b)\n",
        "print(\"Subtraction:\", a - b)\n",
        "print(\"Multiplication:\", a * b)\n",
        "print(\"Division:\", a / b)"
      ],
      "metadata": {
        "id": "mTSV9u1kA4lU"
      },
      "execution_count": null,
      "outputs": []
    },
    {
      "cell_type": "markdown",
      "source": [
        "8. Demonstrate logical operators"
      ],
      "metadata": {
        "id": "ZUQitAwEEWhd"
      }
    },
    {
      "cell_type": "code",
      "source": [
        "a = 5\n",
        "b = 10\n",
        "\n",
        "print(\"a > 3 and b < 20:\", a > 3 and b < 20)\n",
        "print(\"a < 3 or b > 5:\", a < 3 or b > 5)\n",
        "print(\"not(a == b):\", not(a == b))"
      ],
      "metadata": {
        "colab": {
          "base_uri": "https://localhost:8080/"
        },
        "id": "XqdhYDAdEZe-",
        "outputId": "637fa372-3d60-4b99-dc49-f89845c1ca43"
      },
      "execution_count": 23,
      "outputs": [
        {
          "output_type": "stream",
          "name": "stdout",
          "text": [
            "a > 3 and b < 20: True\n",
            "a < 3 or b > 5: True\n",
            "not(a == b): True\n"
          ]
        }
      ]
    },
    {
      "cell_type": "markdown",
      "source": [
        "9. Convert user input to different types"
      ],
      "metadata": {
        "id": "ofPJuDQgEmBO"
      }
    },
    {
      "cell_type": "code",
      "source": [
        "user_input = input(\"Enter a value: \")\n",
        "\n",
        "#Convert\n",
        "as_int = int(user_input)\n",
        "as_float = float(user_input)\n",
        "as_bool = bool(user_input)\n",
        "\n",
        "print(\"Integer:\", as_int)\n",
        "print(\"Float:\", as_float)\n",
        "print(\"Boolean:\", as_bool)"
      ],
      "metadata": {
        "colab": {
          "base_uri": "https://localhost:8080/"
        },
        "id": "da-wyMI0E0AN",
        "outputId": "251394ef-6edd-48d5-809f-d0210acebeaf"
      },
      "execution_count": 24,
      "outputs": [
        {
          "output_type": "stream",
          "name": "stdout",
          "text": [
            "Enter a value: 9\n",
            "Integer: 9\n",
            "Float: 9.0\n",
            "Boolean: True\n"
          ]
        }
      ]
    },
    {
      "cell_type": "markdown",
      "source": [
        "10. Type casting list elements"
      ],
      "metadata": {
        "id": "tX0WP4FCFTuM"
      }
    },
    {
      "cell_type": "code",
      "source": [
        "str_list = [\"1\", \"2\", \"3\"]\n",
        "int_list = list(map(int, str_list))\n",
        "print(\"Original:\", str_list)\n",
        "print(\"After type casting:\", int_list)\n"
      ],
      "metadata": {
        "colab": {
          "base_uri": "https://localhost:8080/"
        },
        "id": "pcUmm22nFWod",
        "outputId": "2fd0d36f-ed9d-4bfa-f39f-45e2fe45c2a0"
      },
      "execution_count": 25,
      "outputs": [
        {
          "output_type": "stream",
          "name": "stdout",
          "text": [
            "Original: ['1', '2', '3']\n",
            "After type casting: [1, 2, 3]\n"
          ]
        }
      ]
    },
    {
      "cell_type": "markdown",
      "source": [
        "11. Check if a number is positive, negative, or zero"
      ],
      "metadata": {
        "id": "vCS85nuzFdpl"
      }
    },
    {
      "cell_type": "code",
      "source": [
        "num = float(input(\"Enter a number: \"))\n",
        "\n",
        "if num > 0:\n",
        "    print(\"Positive number\")\n",
        "elif num < 0:\n",
        "    print(\"Negative number\")\n",
        "else:\n",
        "    print(\"Zero\")\n"
      ],
      "metadata": {
        "id": "Ddd7pv_yFggO"
      },
      "execution_count": null,
      "outputs": []
    },
    {
      "cell_type": "markdown",
      "source": [
        "12. For loop from 1 to 10"
      ],
      "metadata": {
        "id": "pmux2sGtFliK"
      }
    },
    {
      "cell_type": "markdown",
      "source": [],
      "metadata": {
        "id": "JKRe1iXLFrnR"
      }
    },
    {
      "cell_type": "code",
      "source": [
        "for i in range(1, 11):\n",
        "    print(i)\n"
      ],
      "metadata": {
        "colab": {
          "base_uri": "https://localhost:8080/"
        },
        "id": "XcVhgrF6Fuq1",
        "outputId": "7f07ce5a-549f-4e7a-bc4c-2a6390533896"
      },
      "execution_count": 26,
      "outputs": [
        {
          "output_type": "stream",
          "name": "stdout",
          "text": [
            "1\n",
            "2\n",
            "3\n",
            "4\n",
            "5\n",
            "6\n",
            "7\n",
            "8\n",
            "9\n",
            "10\n"
          ]
        }
      ]
    },
    {
      "cell_type": "markdown",
      "source": [
        "13. Sum of all even numbers from 1 to 50"
      ],
      "metadata": {
        "id": "Iz8W6-ylF3tm"
      }
    },
    {
      "cell_type": "code",
      "source": [
        "sum_even = 0\n",
        "for i in range(2, 51, 2):\n",
        "    sum_even += i\n",
        "print(\"Sum of even numbers from 1 to 50:\", sum_even)"
      ],
      "metadata": {
        "colab": {
          "base_uri": "https://localhost:8080/"
        },
        "id": "3N0idfsiF4rB",
        "outputId": "08202b4b-5c58-4200-93f3-a915257f7868"
      },
      "execution_count": 27,
      "outputs": [
        {
          "output_type": "stream",
          "name": "stdout",
          "text": [
            "Sum of even numbers from 1 to 50: 650\n"
          ]
        }
      ]
    },
    {
      "cell_type": "markdown",
      "source": [
        "14. Reverse a string using while loop"
      ],
      "metadata": {
        "id": "g7Lo91AAIDV1"
      }
    },
    {
      "cell_type": "code",
      "source": [
        "text = input(\"Enter a string: \")\n",
        "reversed_str = \"\"\n",
        "i = len(text) - 1\n",
        "\n",
        "while i >= 0:\n",
        "    reversed_str += text[i]\n",
        "    i -= 1\n",
        "\n",
        "print(\"Reversed string:\", reversed_str)"
      ],
      "metadata": {
        "id": "iygWiTiAIcjB"
      },
      "execution_count": null,
      "outputs": []
    },
    {
      "cell_type": "markdown",
      "source": [
        "15. Factorial using while loop"
      ],
      "metadata": {
        "id": "g4IhtWOZIz2e"
      }
    },
    {
      "cell_type": "code",
      "source": [
        "num = int(input(\"Enter a number: \"))\n",
        "factorial = 1\n",
        "i = 1\n",
        "\n",
        "while i <= num:\n",
        "    factorial *= i\n",
        "    i += 1\n",
        "\n",
        "print(f\"Factorial of {num} is {factorial}\")"
      ],
      "metadata": {
        "id": "J0ZcGNOQI2uh"
      },
      "execution_count": null,
      "outputs": []
    },
    {
      "cell_type": "code",
      "source": [
        "dict1 = {\"name\": \"Priya\", \"age\": 25, \"city\": \"New York\"}\n",
        "dict1"
      ],
      "metadata": {
        "colab": {
          "base_uri": "https://localhost:8080/"
        },
        "id": "eR3Zkv8qOfoP",
        "outputId": "6b3bd616-0beb-49ed-db4e-581845465723"
      },
      "execution_count": 33,
      "outputs": [
        {
          "output_type": "execute_result",
          "data": {
            "text/plain": [
              "{'name': 'Priya', 'age': 25, 'city': 'New York'}"
            ]
          },
          "metadata": {},
          "execution_count": 33
        }
      ]
    },
    {
      "cell_type": "code",
      "source": [
        "dict1['age']"
      ],
      "metadata": {
        "colab": {
          "base_uri": "https://localhost:8080/"
        },
        "id": "WtlVrB3kPS5T",
        "outputId": "2e4657c9-5e3e-4505-f056-89c39a26c933"
      },
      "execution_count": 34,
      "outputs": [
        {
          "output_type": "execute_result",
          "data": {
            "text/plain": [
              "25"
            ]
          },
          "metadata": {},
          "execution_count": 34
        }
      ]
    },
    {
      "cell_type": "code",
      "source": [
        "dict1['city']"
      ],
      "metadata": {
        "colab": {
          "base_uri": "https://localhost:8080/",
          "height": 35
        },
        "id": "AlbAPYA7Pfr-",
        "outputId": "a44435a4-9c67-464f-b851-04e13326f8ef"
      },
      "execution_count": 35,
      "outputs": [
        {
          "output_type": "execute_result",
          "data": {
            "text/plain": [
              "'New York'"
            ],
            "application/vnd.google.colaboratory.intrinsic+json": {
              "type": "string"
            }
          },
          "metadata": {},
          "execution_count": 35
        }
      ]
    },
    {
      "cell_type": "code",
      "source": [
        "#empty curly braces indicates dictionary, not the set\n",
        "\n",
        "dict2 = {}\n",
        "type (dict2)\n",
        "\n"
      ],
      "metadata": {
        "colab": {
          "base_uri": "https://localhost:8080/"
        },
        "id": "KihcQuoPPmYs",
        "outputId": "640c1bb6-c5e5-4dee-eb63-7836f13d5b80"
      },
      "execution_count": 36,
      "outputs": [
        {
          "output_type": "execute_result",
          "data": {
            "text/plain": [
              "dict"
            ]
          },
          "metadata": {},
          "execution_count": 36
        }
      ]
    }
  ]
}