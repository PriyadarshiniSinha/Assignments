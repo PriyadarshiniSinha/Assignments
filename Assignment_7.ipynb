{
  "nbformat": 4,
  "nbformat_minor": 0,
  "metadata": {
    "colab": {
      "provenance": []
    },
    "kernelspec": {
      "name": "python3",
      "display_name": "Python 3"
    },
    "language_info": {
      "name": "python"
    }
  },
  "cells": [
    {
      "cell_type": "markdown",
      "source": [
        "1. What is a RESTful API?\n",
        "\n",
        "A RESTful API (Representational State Transfer) is a web service that adheres to REST principles, allowing systems to communicate using stateless HTTP requests. It uses standard HTTP methods like GET, POST, PUT, DELETE for CRUD operations on resources, which are typically represented in JSON or XML format."
      ],
      "metadata": {
        "id": "3xxE4G0ugr3u"
      }
    },
    {
      "cell_type": "markdown",
      "source": [
        "2. Explain the concept of API specification.\n",
        "\n",
        "An API specification is a formal document or definition that outlines the endpoints, request/response structure, methods, parameters, authentication, and status codes of an API. Tools like OpenAPI (formerly Swagger) help generate, test, and maintain APIs based on such specifications."
      ],
      "metadata": {
        "id": "ruS1Nu3mgwLx"
      }
    },
    {
      "cell_type": "markdown",
      "source": [
        "3. What is Flask, and why is it popular for building APIs?\n",
        "\n",
        "Flask is a lightweight and flexible Python web framework used to build web applications and APIs. It's popular because of:\n",
        "\n",
        "Minimal boilerplate code\n",
        "\n",
        "Built-in development server\n",
        "\n",
        "Easy integration with extensions (like Flask-SQLAlchemy)\n",
        "\n",
        "Great for prototyping and microservices"
      ],
      "metadata": {
        "id": "2od1GUgeg5RF"
      }
    },
    {
      "cell_type": "markdown",
      "source": [
        "4. What is routing in Flask?\n",
        "\n",
        "Routing in Flask is the mechanism that maps a URL to a specific function (called a view function). It determines what content to return when a client accesses a certain endpoint.\n"
      ],
      "metadata": {
        "id": "XQuioc2rhWKy"
      }
    },
    {
      "cell_type": "markdown",
      "source": [
        "5. How do you create a simple Flask application?"
      ],
      "metadata": {
        "id": "skEDsXfOhaw5"
      }
    },
    {
      "cell_type": "code",
      "source": [
        "from flask import Flask\n",
        "app = Flask(__name__)\n",
        "\n",
        "@app.route('/')\n",
        "def home():\n",
        "    return \"Hello, World!\"\n",
        "\n",
        "if __name__ == '__main__':\n",
        "    app.run(debug=True)\n"
      ],
      "metadata": {
        "colab": {
          "base_uri": "https://localhost:8080/"
        },
        "id": "2mTFEnGChc0-",
        "outputId": "43f01a96-3f29-464a-ecae-9b026db380c5"
      },
      "execution_count": null,
      "outputs": [
        {
          "output_type": "stream",
          "name": "stdout",
          "text": [
            " * Serving Flask app '__main__'\n",
            " * Debug mode: on\n"
          ]
        },
        {
          "output_type": "stream",
          "name": "stderr",
          "text": [
            "INFO:werkzeug:\u001b[31m\u001b[1mWARNING: This is a development server. Do not use it in a production deployment. Use a production WSGI server instead.\u001b[0m\n",
            " * Running on http://127.0.0.1:5000\n",
            "INFO:werkzeug:\u001b[33mPress CTRL+C to quit\u001b[0m\n",
            "INFO:werkzeug: * Restarting with stat\n"
          ]
        }
      ]
    },
    {
      "cell_type": "markdown",
      "source": [
        "6. What are HTTP methods used in RESTful APIs?\n",
        "\n",
        "GET – Retrieve data\n",
        "\n",
        "POST – Create new data\n",
        "\n",
        "PUT – Update existing data\n",
        "\n",
        "DELETE – Remove data\n",
        "\n",
        "PATCH – Partially update data\n",
        "\n",
        "OPTIONS – Describes communication options"
      ],
      "metadata": {
        "id": "XduQfNIAh5uh"
      }
    },
    {
      "cell_type": "markdown",
      "source": [
        "7. What is the purpose of the @app.route() decorator in Flask?\n",
        "\n",
        "It binds a URL to a view function. For example, @app.route('/about') means the function below it will run when the /about URL is accessed."
      ],
      "metadata": {
        "id": "S8n_RnAniAsm"
      }
    },
    {
      "cell_type": "markdown",
      "source": [
        "8. What is the difference between GET and POST HTTP methods?\n",
        "\n",
        "GET: Used to request and retrieve data from the server. Parameters are passed in the URL.\n",
        "\n",
        "POST: Used to send data to the server, typically for creating or updating. Data is sent in the request body."
      ],
      "metadata": {
        "id": "b5lI-MJuiDYm"
      }
    },
    {
      "cell_type": "markdown",
      "source": [
        "9. How do you handle errors in Flask APIs?\n",
        "\n",
        "You can use error handlers:"
      ],
      "metadata": {
        "id": "bFIIESlriIMO"
      }
    },
    {
      "cell_type": "code",
      "source": [
        "@app.errorhandler(404)\n",
        "def not_found(error):\n",
        "    return jsonify({\"error\": \"Not Found\"}), 404\n"
      ],
      "metadata": {
        "id": "TikKx9EYiYxI"
      },
      "execution_count": null,
      "outputs": []
    },
    {
      "cell_type": "markdown",
      "source": [
        "You can also use try-except blocks inside your routes for granular error handling."
      ],
      "metadata": {
        "id": "elaNndNTiglh"
      }
    },
    {
      "cell_type": "markdown",
      "source": [
        "10. How do you connect Flask to a SQL database?\n",
        "\n",
        "Using Flask-SQLAlchemy:"
      ],
      "metadata": {
        "id": "vzpbrHRuihJB"
      }
    },
    {
      "cell_type": "code",
      "source": [
        "from flask_sqlalchemy import SQLAlchemy\n",
        "\n",
        "app.config['SQLALCHEMY_DATABASE_URI'] = 'sqlite:///example.db'\n",
        "db = SQLAlchemy(app)"
      ],
      "metadata": {
        "id": "240x-2Ruinty"
      },
      "execution_count": null,
      "outputs": []
    },
    {
      "cell_type": "markdown",
      "source": [
        "11. What is the role of Flask-SQLAlchemy?\n",
        "\n",
        "Flask-SQLAlchemy is an extension that adds SQLAlchemy support to Flask. It simplifies database interaction using ORM (Object Relational Mapping), enabling you to interact with the database using Python classes instead of raw SQL."
      ],
      "metadata": {
        "id": "RyZKgeSRiqaF"
      }
    },
    {
      "cell_type": "markdown",
      "source": [
        "12. What are Flask blueprints, and how are they useful?\n",
        "\n",
        "Blueprints help organize a Flask app into smaller components/modules. This is useful for structuring larger applications and for code reuse."
      ],
      "metadata": {
        "id": "sMUIZ-1xivlv"
      }
    },
    {
      "cell_type": "code",
      "source": [
        "from flask import Blueprint\n",
        "api_bp = Blueprint('api', __name__)\n",
        "\n",
        "@api_bp.route('/hello')\n",
        "def hello():\n",
        "    return \"Hello from blueprint!\"\n"
      ],
      "metadata": {
        "id": "xkbyR_Yui1FP"
      },
      "execution_count": null,
      "outputs": []
    },
    {
      "cell_type": "markdown",
      "source": [
        "13. What is the purpose of Flask's request object?\n",
        "\n",
        "The request object provides access to incoming request data like form fields, JSON data, headers, cookies, and more."
      ],
      "metadata": {
        "id": "CgpLXi2ci3fh"
      }
    },
    {
      "cell_type": "code",
      "source": [
        "from flask import request\n",
        "\n",
        "@app.route('/submit', methods=['POST'])\n",
        "def submit():\n",
        "    data = request.json\n",
        "    return jsonify(data)\n"
      ],
      "metadata": {
        "id": "3tMv71G0i8ty"
      },
      "execution_count": null,
      "outputs": []
    },
    {
      "cell_type": "markdown",
      "source": [
        "14. How do you create a RESTful API endpoint using Flask?"
      ],
      "metadata": {
        "id": "kVxh5-0ni-z0"
      }
    },
    {
      "cell_type": "code",
      "source": [
        "@app.route('/api/data', methods=['GET'])\n",
        "def get_data():\n",
        "    return jsonify({\"message\": \"Data fetched successfully\"})"
      ],
      "metadata": {
        "id": "htj6S5r9i_sw"
      },
      "execution_count": null,
      "outputs": []
    },
    {
      "cell_type": "markdown",
      "source": [
        "15. What is the purpose of Flask's jsonify() function?\n",
        "\n",
        "jsonify() converts Python dictionaries into a JSON response with appropriate content-type headers, ensuring correct response formatting."
      ],
      "metadata": {
        "id": "lIO3suIBjBzs"
      }
    },
    {
      "cell_type": "markdown",
      "source": [
        "16. Explain Flask’s url_for() function.\n",
        "\n",
        "url_for() generates a URL to a view function by name, making routing dynamic and avoiding hardcoded URLs.\n",
        "\n",
        "Example:"
      ],
      "metadata": {
        "id": "KDVoyNYSjGQ5"
      }
    },
    {
      "cell_type": "code",
      "source": [
        "url_for('home')  # returns '/'"
      ],
      "metadata": {
        "id": "4BQt9ZVMjLTi"
      },
      "execution_count": null,
      "outputs": []
    },
    {
      "cell_type": "markdown",
      "source": [
        "17. How does Flask handle static files (CSS, JavaScript, etc.)?\n",
        "\n",
        "Flask automatically serves files in the static/ folder at /static/ URL.\n",
        "\n",
        "Example:\n",
        "A CSS file at static/styles.css is accessible via:"
      ],
      "metadata": {
        "id": "0OmrDh0KjPrd"
      }
    },
    {
      "cell_type": "code",
      "source": [
        "http://localhost:5000/static/styles.css\n"
      ],
      "metadata": {
        "id": "wCNrP0gXjTQi"
      },
      "execution_count": null,
      "outputs": []
    },
    {
      "cell_type": "markdown",
      "source": [
        "18. What is an API specification, and how does it help in building a Flask API?\n",
        "\n",
        "An API specification like OpenAPI defines the structure of the API in advance. It helps by:\n",
        "\n",
        "Creating clear documentation\n",
        "\n",
        "Allowing front-end and back-end to work in parallel\n",
        "\n",
        "Enabling automated testing and validation"
      ],
      "metadata": {
        "id": "SP2EJp44jcNa"
      }
    },
    {
      "cell_type": "markdown",
      "source": [
        "19. What are HTTP status codes, and why are they important in a Flask API?\n",
        "\n",
        "HTTP status codes indicate the outcome of an API request:\n",
        "\n",
        "200 – OK\n",
        "\n",
        "201 – Created\n",
        "\n",
        "400 – Bad Request\n",
        "\n",
        "401 – Unauthorized\n",
        "\n",
        "404 – Not Found\n",
        "\n",
        "500 – Internal Server Error\n",
        "\n",
        "They inform clients about success or failure of their requests."
      ],
      "metadata": {
        "id": "FK4wV44ojixa"
      }
    },
    {
      "cell_type": "markdown",
      "source": [
        "20. How do you handle POST requests in Flask?"
      ],
      "metadata": {
        "id": "7K59biOfjnvE"
      }
    },
    {
      "cell_type": "code",
      "source": [
        "@app.route('/submit', methods=['POST'])\n",
        "def submit():\n",
        "    data = request.get_json()\n",
        "    return jsonify({\"received\": data}), 201"
      ],
      "metadata": {
        "id": "wKvLGz1vjo7L"
      },
      "execution_count": null,
      "outputs": []
    },
    {
      "cell_type": "markdown",
      "source": [
        "21. How would you secure a Flask API?\n",
        "\n",
        "Use HTTPS\n",
        "\n",
        "Implement authentication/authorization (e.g., JWT, OAuth)\n",
        "\n",
        "Input validation and sanitization\n",
        "\n",
        "Rate limiting\n",
        "\n",
        "Enable CORS carefully\n",
        "\n",
        "Use Flask-Limiter, Flask-JWT-Extended, etc."
      ],
      "metadata": {
        "id": "P_msBpBtjqyW"
      }
    },
    {
      "cell_type": "markdown",
      "source": [
        "22. What is the significance of the Flask-RESTful extension?\n",
        "\n",
        "Flask-RESTful simplifies the creation of REST APIs by providing:\n",
        "\n",
        "Resource-based routing\n",
        "\n",
        "Automatic HTTP method handling\n",
        "\n",
        "Helpful tools like argument parsing and request/response formatting"
      ],
      "metadata": {
        "id": "cQx7QwQgjw0f"
      }
    },
    {
      "cell_type": "markdown",
      "source": [
        "23. What is the role of Flask’s session object?\n",
        "\n",
        "The session object allows you to store information across requests for a particular user (e.g., login status). It stores data on the server side and uses a cookie to track sessions securely.\n",
        "\n",
        "Example:"
      ],
      "metadata": {
        "id": "-tszlp7vj15y"
      }
    },
    {
      "cell_type": "code",
      "source": [
        "from flask import session\n",
        "session['user'] = 'Priya'\n"
      ],
      "metadata": {
        "id": "sk54VA2Qj7EY"
      },
      "execution_count": null,
      "outputs": []
    },
    {
      "cell_type": "markdown",
      "source": [
        "1. How do you create a basic Flask application?"
      ],
      "metadata": {
        "id": "wWzb1vCTlHro"
      }
    },
    {
      "cell_type": "code",
      "source": [
        "from flask import Flask\n",
        "\n",
        "app = Flask(__name__)\n",
        "\n",
        "@app.route('/')\n",
        "def home():\n",
        "    return \"Hello, Flask!\"\n",
        "\n",
        "if __name__ == '__main__':\n",
        "    app.run(debug=True)\n"
      ],
      "metadata": {
        "id": "qMKOOwR0lYBZ"
      },
      "execution_count": null,
      "outputs": []
    },
    {
      "cell_type": "markdown",
      "source": [
        "2. How do you serve static files like images or CSS in Flask?\n",
        "\n",
        "Place your files inside a folder named static/:"
      ],
      "metadata": {
        "id": "7Ory0ojvlozk"
      }
    },
    {
      "cell_type": "code",
      "source": [
        "static/\n",
        "  └── style.css\n"
      ],
      "metadata": {
        "id": "penfAQ-mlr0q"
      },
      "execution_count": null,
      "outputs": []
    },
    {
      "cell_type": "markdown",
      "source": [
        "Reference them in your HTML:"
      ],
      "metadata": {
        "id": "OBx9oLL7lvYA"
      }
    },
    {
      "cell_type": "code",
      "source": [
        "<link rel=\"stylesheet\" href=\"{{ url_for('static', filename='style.css') }}\">\n"
      ],
      "metadata": {
        "id": "__yJ6tGllwMp"
      },
      "execution_count": null,
      "outputs": []
    },
    {
      "cell_type": "markdown",
      "source": [
        "3. How do you define different routes with different HTTP methods in Flask?"
      ],
      "metadata": {
        "id": "KdBxkuRQly5M"
      }
    },
    {
      "cell_type": "code",
      "source": [
        "@app.route('/submit', methods=['GET', 'POST'])\n",
        "def submit():\n",
        "    if request.method == 'POST':\n",
        "        return \"Data submitted!\"\n",
        "    else:\n",
        "        return \"Submit form\"\n"
      ],
      "metadata": {
        "id": "ULeBPv64l0w7"
      },
      "execution_count": null,
      "outputs": []
    },
    {
      "cell_type": "markdown",
      "source": [
        "4. How do you render HTML templates in Flask?\n",
        "\n",
        "Place HTML files inside the templates/ directory.\n",
        "\n",
        "Use render_template():"
      ],
      "metadata": {
        "id": "jzN2jswFl2uG"
      }
    },
    {
      "cell_type": "code",
      "source": [
        "from flask import render_template\n",
        "\n",
        "@app.route('/')\n",
        "def home():\n",
        "    return render_template('index.html')\n"
      ],
      "metadata": {
        "id": "dCQ42rkUl6mC"
      },
      "execution_count": null,
      "outputs": []
    },
    {
      "cell_type": "markdown",
      "source": [
        "5. How can you generate URLs for routes in Flask using url_for?"
      ],
      "metadata": {
        "id": "9L1tCcYol75X"
      }
    },
    {
      "cell_type": "code",
      "source": [
        "@app.route('/profile/<username>')\n",
        "def profile(username):\n",
        "    return f\"Welcome {username}\"\n",
        "\n",
        "@app.route('/dashboard')\n",
        "def dashboard():\n",
        "    profile_url = url_for('profile', username='Priya')\n",
        "    return redirect(profile_url)\n"
      ],
      "metadata": {
        "id": "OLy4ftiSl_Nr"
      },
      "execution_count": null,
      "outputs": []
    },
    {
      "cell_type": "markdown",
      "source": [
        "6. How do you handle forms in Flask?"
      ],
      "metadata": {
        "id": "WZLvB8DMmBYR"
      }
    },
    {
      "cell_type": "code",
      "source": [
        "@app.route('/form', methods=['GET', 'POST'])\n",
        "def form():\n",
        "    if request.method == 'POST':\n",
        "        name = request.form['name']\n",
        "        return f\"Hello, {name}!\"\n",
        "    return '''\n",
        "        <form method=\"POST\">\n",
        "            <input name=\"name\">\n",
        "            <input type=\"submit\">\n",
        "        </form>\n",
        "    '''\n"
      ],
      "metadata": {
        "id": "dtq-uDmhmCvv"
      },
      "execution_count": null,
      "outputs": []
    },
    {
      "cell_type": "markdown",
      "source": [
        "7. How can you validate form data in Flask?\n",
        "\n",
        "Using WTForms with Flask-WTF:"
      ],
      "metadata": {
        "id": "ilOqPYt8mFn8"
      }
    },
    {
      "cell_type": "code",
      "source": [
        "from flask_wtf import FlaskForm\n",
        "from wtforms import StringField, SubmitField\n",
        "from wtforms.validators import DataRequired\n",
        "\n",
        "class MyForm(FlaskForm):\n",
        "    name = StringField('Name', validators=[DataRequired()])\n",
        "    submit = SubmitField('Submit')\n"
      ],
      "metadata": {
        "id": "8Jv8pLdBmJFf"
      },
      "execution_count": null,
      "outputs": []
    },
    {
      "cell_type": "markdown",
      "source": [
        "And in your route:"
      ],
      "metadata": {
        "id": "IXX6oMIMmLRf"
      }
    },
    {
      "cell_type": "code",
      "source": [
        "@app.route('/validate', methods=['GET', 'POST'])\n",
        "def validate():\n",
        "    form = MyForm()\n",
        "    if form.validate_on_submit():\n",
        "        return f\"Hello, {form.name.data}\"\n",
        "    return render_template('form.html', form=form)\n"
      ],
      "metadata": {
        "id": "6arLzhU2mMz_"
      },
      "execution_count": null,
      "outputs": []
    },
    {
      "cell_type": "markdown",
      "source": [
        "8. How do you manage sessions in Flask?"
      ],
      "metadata": {
        "id": "zAGSCmevmOtd"
      }
    },
    {
      "cell_type": "code",
      "source": [
        "from flask import session\n",
        "\n",
        "app.secret_key = 'your_secret_key'\n",
        "\n",
        "@app.route('/login')\n",
        "def login():\n",
        "    session['user'] = 'Priya'\n",
        "    return \"Logged in!\"\n",
        "\n",
        "@app.route('/profile')\n",
        "def profile():\n",
        "    user = session.get('user')\n",
        "    return f\"Welcome {user}\"\n"
      ],
      "metadata": {
        "id": "bWSMeDhamQD5"
      },
      "execution_count": null,
      "outputs": []
    },
    {
      "cell_type": "markdown",
      "source": [
        "9. How do you redirect to a different route in Flask?"
      ],
      "metadata": {
        "id": "HjAiRcoemSpG"
      }
    },
    {
      "cell_type": "code",
      "source": [
        "from flask import redirect, url_for\n",
        "\n",
        "@app.route('/')\n",
        "def index():\n",
        "    return redirect(url_for('home'))\n",
        "\n",
        "@app.route('/home')\n",
        "def home():\n",
        "    return \"This is Home\"\n"
      ],
      "metadata": {
        "id": "1AIZdLtQmVN2"
      },
      "execution_count": null,
      "outputs": []
    },
    {
      "cell_type": "markdown",
      "source": [
        "10. How do you handle errors in Flask (e.g., 404)?"
      ],
      "metadata": {
        "id": "4zrblfHdmYVk"
      }
    },
    {
      "cell_type": "code",
      "source": [
        "@app.errorhandler(404)\n",
        "def page_not_found(e):\n",
        "    return render_template('404.html'), 404\n"
      ],
      "metadata": {
        "id": "LA9n95QgmaIB"
      },
      "execution_count": null,
      "outputs": []
    },
    {
      "cell_type": "markdown",
      "source": [
        "11. How do you structure a Flask app using Blueprints?\n",
        "\n",
        "Create a blueprint:"
      ],
      "metadata": {
        "id": "t-X7lHUwmcWK"
      }
    },
    {
      "cell_type": "code",
      "source": [
        "# in routes.py\n",
        "from flask import Blueprint\n",
        "\n",
        "bp = Blueprint('main', __name__)\n",
        "\n",
        "@bp.route('/hello')\n",
        "def hello():\n",
        "    return \"Hello from blueprint\"\n"
      ],
      "metadata": {
        "id": "RGrjfeAmmf-8"
      },
      "execution_count": null,
      "outputs": []
    },
    {
      "cell_type": "markdown",
      "source": [
        "Register it in main app:"
      ],
      "metadata": {
        "id": "ycMthbLsmisW"
      }
    },
    {
      "cell_type": "code",
      "source": [
        "from routes import bp\n",
        "app.register_blueprint(bp, url_prefix='/main')\n"
      ],
      "metadata": {
        "id": "6PPTLoREmkCi"
      },
      "execution_count": null,
      "outputs": []
    },
    {
      "cell_type": "code",
      "source": [
        "def reverse_string(s):\n",
        "    return s[::-1]\n",
        "\n",
        "app.jinja_env.filters['reverse'] = reverse_string\n",
        "\n",
        "# In template:\n",
        "# {{ \"hello\" | reverse }} -> \"olleh\"\n"
      ],
      "metadata": {
        "id": "6HXnVDRKmmhx"
      },
      "execution_count": null,
      "outputs": []
    },
    {
      "cell_type": "markdown",
      "source": [
        "13. How can you redirect with query parameters in Flask?"
      ],
      "metadata": {
        "id": "g7ZJx2OFmplz"
      }
    },
    {
      "cell_type": "code",
      "source": [
        "@app.route('/redirect_with_params')\n",
        "def redirect_with_params():\n",
        "    return redirect(url_for('result', name='Priya', age=22))\n",
        "\n",
        "@app.route('/result')\n",
        "def result():\n",
        "    name = request.args.get('name')\n",
        "    age = request.args.get('age')\n",
        "    return f\"{name} is {age} years old\"\n"
      ],
      "metadata": {
        "id": "gX7HHG8Pmq_B"
      },
      "execution_count": null,
      "outputs": []
    },
    {
      "cell_type": "markdown",
      "source": [
        "14. How do you return JSON responses in Flask?"
      ],
      "metadata": {
        "id": "bqu394HmmtZ6"
      }
    },
    {
      "cell_type": "code",
      "source": [
        "from flask import jsonify\n",
        "\n",
        "@app.route('/api/data')\n",
        "def data():\n",
        "    return jsonify({\"name\": \"Priya\", \"role\": \"Developer\"})\n"
      ],
      "metadata": {
        "id": "3PbEnwtfmvIo"
      },
      "execution_count": null,
      "outputs": []
    },
    {
      "cell_type": "markdown",
      "source": [
        "15. How do you capture URL parameters in Flask?"
      ],
      "metadata": {
        "id": "KfB40pU_myB7"
      }
    },
    {
      "cell_type": "code",
      "source": [
        "@app.route('/user/<username>')\n",
        "def show_user(username):\n",
        "    return f\"User: {username}\"\n",
        "\n",
        "@app.route('/post/<int:post_id>')\n",
        "def show_post(post_id):\n",
        "    return f\"Post ID: {post_id}\"\n"
      ],
      "metadata": {
        "id": "W-6lsK3OmzeR"
      },
      "execution_count": null,
      "outputs": []
    }
  ]
}