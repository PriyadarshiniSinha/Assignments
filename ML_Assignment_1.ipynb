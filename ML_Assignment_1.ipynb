{
  "nbformat": 4,
  "nbformat_minor": 0,
  "metadata": {
    "colab": {
      "provenance": []
    },
    "kernelspec": {
      "name": "python3",
      "display_name": "Python 3"
    },
    "language_info": {
      "name": "python"
    }
  },
  "cells": [
    {
      "cell_type": "code",
      "execution_count": null,
      "metadata": {
        "id": "dIw7LZDNtaOy"
      },
      "outputs": [],
      "source": [
        "Question 1: Explain the differences between AI, ML, Deep Learning (DL), and Data Science (DS).\n",
        "\n",
        "Artificial Intelligence (AI):\n",
        "\n",
        "AI is the broad field focused on building systems that can mimic human intelligence and decision-making.\n",
        "\n",
        "Example: Chatbots, recommendation systems, self-driving cars.\n",
        "\n",
        "Machine Learning (ML):\n",
        "\n",
        "A subset of AI where machines learn patterns from data and improve over time without being explicitly programmed.\n",
        "\n",
        "Example: Predicting house prices using historical data.\n",
        "\n",
        "Deep Learning (DL):\n",
        "\n",
        "A specialized subset of ML using neural networks with multiple layers to learn complex patterns and representations.\n",
        "\n",
        "Example: Image recognition (e.g., detecting cats vs dogs).\n",
        "\n",
        "Data Science (DS):\n",
        "\n",
        "A multidisciplinary field combining statistics, ML, domain knowledge, and data analysis to extract insights and knowledge from structured and unstructured data.\n",
        "\n",
        "Example: Analyzing customer data to improve marketing campaigns."
      ]
    },
    {
      "cell_type": "markdown",
      "source": [
        "Question 2: What are the types of machine learning? Describe each with one real-world example.\n",
        "\n",
        "Supervised Learning\n",
        "\n",
        "The model is trained on labeled data (input-output pairs).\n",
        "\n",
        "Example: Spam email classification (spam vs. not spam).\n",
        "\n",
        "Unsupervised Learning\n",
        "\n",
        "The model finds hidden patterns or groupings in unlabeled data.\n",
        "\n",
        "Example: Customer segmentation in marketing.\n",
        "\n",
        "Reinforcement Learning (RL)\n",
        "\n",
        "The model learns by interacting with the environment and receiving rewards/penalties.\n",
        "\n",
        "Example: Training robots to walk or self-driving cars."
      ],
      "metadata": {
        "id": "BS27JTsJtphG"
      }
    },
    {
      "cell_type": "markdown",
      "source": [
        "Question 3: Define overfitting, underfitting, and the bias-variance tradeoff in machine learning.\n",
        "\n",
        "Overfitting: The model learns the training data too well (including noise), resulting in poor generalization on test data.\n",
        "\n",
        "Underfitting: The model is too simple and fails to capture patterns in the training data.\n",
        "\n",
        "Bias-Variance Tradeoff:\n",
        "\n",
        "High Bias (Underfitting): Model assumptions are too strong, performance is poor.\n",
        "\n",
        "High Variance (Overfitting): Model is too complex, captures noise.\n",
        "\n",
        "Goal: Find a balance between bias and variance for best performance."
      ],
      "metadata": {
        "id": "pSADUCnTtuTC"
      }
    },
    {
      "cell_type": "markdown",
      "source": [
        "Question 4: What are outliers in a dataset, and list three common techniques for handling them.\n",
        "\n",
        "Outliers: Extreme values that deviate significantly from most observations.\n",
        "\n",
        "Techniques to handle outliers:\n",
        "\n",
        "Z-score or IQR method: Detect and remove/transform outliers.\n",
        "\n",
        "Capping (Winsorization): Replace extreme values with nearest acceptable value.\n",
        "\n",
        "Transformation: Apply log/Box-Cox transformations to reduce impact."
      ],
      "metadata": {
        "id": "0upV3RdrtzY6"
      }
    },
    {
      "cell_type": "markdown",
      "source": [
        "Question 5: Explain the process of handling missing values and mention one imputation technique for numerical and one for categorical data.\n",
        "\n",
        "Process:\n",
        "\n",
        "Identify missing values.\n",
        "\n",
        "Decide whether to remove or impute.\n",
        "\n",
        "Apply suitable imputation technique.\n",
        "\n",
        "Numerical Data: Use mean imputation.\n",
        "\n",
        "Categorical Data: Use mode imputation (most frequent value)."
      ],
      "metadata": {
        "id": "Ik0apxfwt3ts"
      }
    },
    {
      "cell_type": "markdown",
      "source": [
        "Question 6: Write a Python program that creates a synthetic imbalanced dataset with make_classification() and prints the class distribution."
      ],
      "metadata": {
        "id": "9HuEshMwt7Rg"
      }
    },
    {
      "cell_type": "code",
      "source": [
        "from sklearn.datasets import make_classification\n",
        "import numpy as np\n",
        "from collections import Counter\n",
        "\n",
        "# Create imbalanced dataset\n",
        "X, y = make_classification(n_samples=1000, n_features=5, n_classes=2,\n",
        "                           weights=[0.9, 0.1], random_state=42)\n",
        "\n",
        "# Print class distribution\n",
        "print(\"Class distribution:\", Counter(y))\n"
      ],
      "metadata": {
        "colab": {
          "base_uri": "https://localhost:8080/"
        },
        "id": "B9cszai3t8Qq",
        "outputId": "4a7aa962-7fe0-44c1-e632-2bc2e1d8b79b"
      },
      "execution_count": 1,
      "outputs": [
        {
          "output_type": "stream",
          "name": "stdout",
          "text": [
            "Class distribution: Counter({np.int64(0): 895, np.int64(1): 105})\n"
          ]
        }
      ]
    },
    {
      "cell_type": "markdown",
      "source": [
        "Question 7: Implement one-hot encoding using pandas for the list ['Red', 'Green', 'Blue', 'Green', 'Red']."
      ],
      "metadata": {
        "id": "wYxvw1b4t_oi"
      }
    },
    {
      "cell_type": "code",
      "source": [
        "import pandas as pd\n",
        "\n",
        "colors = ['Red', 'Green', 'Blue', 'Green', 'Red']\n",
        "df = pd.DataFrame(colors, columns=['Color'])\n",
        "\n",
        "# One-hot encoding\n",
        "encoded = pd.get_dummies(df, columns=['Color'])\n",
        "print(encoded)\n"
      ],
      "metadata": {
        "colab": {
          "base_uri": "https://localhost:8080/"
        },
        "id": "4HitdQwTuBVP",
        "outputId": "944458ca-192a-4705-e0cb-c61a835ed3d5"
      },
      "execution_count": 2,
      "outputs": [
        {
          "output_type": "stream",
          "name": "stdout",
          "text": [
            "   Color_Blue  Color_Green  Color_Red\n",
            "0       False        False       True\n",
            "1       False         True      False\n",
            "2        True        False      False\n",
            "3       False         True      False\n",
            "4       False        False       True\n"
          ]
        }
      ]
    },
    {
      "cell_type": "markdown",
      "source": [
        "Question 8: Write a Python script to generate 1000 samples, introduce 50 missing values, fill with mean, and plot histograms."
      ],
      "metadata": {
        "id": "Xg9_jZ3KuE7B"
      }
    },
    {
      "cell_type": "code",
      "source": [
        "import numpy as np\n",
        "import pandas as pd\n",
        "import matplotlib.pyplot as plt\n",
        "\n",
        "# Generate normal distribution\n",
        "data = np.random.normal(50, 10, 1000)\n",
        "df = pd.DataFrame(data, columns=['Value'])\n",
        "\n",
        "# Introduce 50 missing values\n",
        "missing_idx = np.random.choice(df.index, 50, replace=False)\n",
        "df.loc[missing_idx, 'Value'] = np.nan\n",
        "\n",
        "# Plot before imputation\n",
        "df['Value'].hist(bins=30)\n",
        "plt.title(\"Before Imputation\")\n",
        "plt.show()\n",
        "\n",
        "# Fill missing with mean\n",
        "df['Value'].fillna(df['Value'].mean(), inplace=True)\n",
        "\n",
        "# Plot after imputation\n",
        "df['Value'].hist(bins=30)\n",
        "plt.title(\"After Imputation\")\n",
        "plt.show()\n"
      ],
      "metadata": {
        "colab": {
          "base_uri": "https://localhost:8080/",
          "height": 1000
        },
        "id": "tkOe0Tj_uF-M",
        "outputId": "be661995-212b-4f45-efc5-29aeed32c644"
      },
      "execution_count": 3,
      "outputs": [
        {
          "output_type": "display_data",
          "data": {
            "text/plain": [
              "<Figure size 640x480 with 1 Axes>"
            ],
            "image/png": "[encoded data removed]"
          },
          "metadata": {}
        },
        {
          "output_type": "stream",
          "name": "stderr",
          "text": [
            "/tmp/ipython-input-398001403.py:19: FutureWarning: A value is trying to be set on a copy of a DataFrame or Series through chained assignment using an inplace method.\n",
            "The behavior will change in pandas 3.0. This inplace method will never work because the intermediate object on which we are setting values always behaves as a copy.\n",
            "\n",
            "For example, when doing 'df[col].method(value, inplace=True)', try using 'df.method({col: value}, inplace=True)' or df[col] = df[col].method(value) instead, to perform the operation inplace on the original object.\n",
            "\n",
            "\n",
            "  df['Value'].fillna(df['Value'].mean(), inplace=True)\n"
          ]
        },
        {
          "output_type": "display_data",
          "data": {
            "text/plain": [
              "<Figure size 640x480 with 1 Axes>"
            ],
            "image/png": "[encoded data removed]"
          },
          "metadata": {}
        }
      ]
    },
    {
      "cell_type": "markdown",
      "source": [
        "Question 9: Implement Min-Max scaling on [2, 5, 10, 15, 20]."
      ],
      "metadata": {
        "id": "qtSBUAkGuKID"
      }
    },
    {
      "cell_type": "code",
      "source": [
        "from sklearn.preprocessing import MinMaxScaler\n",
        "import numpy as np\n",
        "\n",
        "data = np.array([[2], [5], [10], [15], [20]])\n",
        "scaler = MinMaxScaler()\n",
        "scaled = scaler.fit_transform(data)\n",
        "\n",
        "print(scaled.flatten())\n"
      ],
      "metadata": {
        "colab": {
          "base_uri": "https://localhost:8080/"
        },
        "id": "Iz2h4cUHuLJ1",
        "outputId": "0a88ed63-2155-4f8d-b99c-c196896d1a76"
      },
      "execution_count": 4,
      "outputs": [
        {
          "output_type": "stream",
          "name": "stdout",
          "text": [
            "[0.         0.16666667 0.44444444 0.72222222 1.        ]\n"
          ]
        }
      ]
    },
    {
      "cell_type": "markdown",
      "source": [
        "Question 10: You are working as a data scientist for a retail company. Data preparation plan.\n",
        "\n",
        "Step 1: Handle Missing Data\n",
        "\n",
        "Use mean/median imputation for missing ages.\n",
        "\n",
        "Use mode for missing categorical values like payment method.\n",
        "\n",
        "Step 2: Handle Outliers\n",
        "\n",
        "Apply IQR or Z-score method to detect outliers in transaction amount.\n",
        "\n",
        "Either cap them or log-transform.\n",
        "\n",
        "Step 3: Handle Imbalanced Data\n",
        "\n",
        "Use SMOTE (Synthetic Minority Oversampling Technique) or undersampling/oversampling to balance fraud vs non-fraud.\n",
        "\n",
        "Step 4: Encode Categorical Variables\n",
        "\n",
        "Apply one-hot encoding for categorical features (e.g., payment method).\n",
        "\n",
        "Step 5: Scaling & Normalization\n",
        "\n",
        "Apply Min-Max scaling or StandardScaler for continuous variables."
      ],
      "metadata": {
        "id": "VrmNZghcuNr7"
      }
    },
    {
      "cell_type": "code",
      "source": [
        "import pandas as pd\n",
        "from sklearn.impute import SimpleImputer\n",
        "from sklearn.preprocessing import OneHotEncoder, MinMaxScaler\n",
        "from imblearn.over_sampling import SMOTE\n",
        "\n",
        "# Example dataset\n",
        "data = pd.DataFrame({\n",
        "    'Age': [25, None, 35, None, 45],\n",
        "    'Transaction': [200, 5000, 300, 250, 100000],\n",
        "    'Payment': ['Card', 'Cash', 'Card', 'UPI', None],\n",
        "    'Fraud': [0, 0, 1, 0, 1]\n",
        "})\n",
        "\n",
        "# Handle missing values\n",
        "num_imputer = SimpleImputer(strategy='mean')\n",
        "data['Age'] = num_imputer.fit_transform(data[['Age']])\n",
        "\n",
        "cat_imputer = SimpleImputer(strategy='most_frequent')\n",
        "data['Payment'] = cat_imputer.fit_transform(data[['Payment']]).flatten()\n",
        "\n",
        "# Handle outliers (example: capping transaction)\n",
        "data['Transaction'] = data['Transaction'].clip(upper=data['Transaction'].quantile(0.95))\n",
        "\n",
        "# One-hot encoding\n",
        "encoder = OneHotEncoder(sparse_output=False)\n",
        "encoded = encoder.fit_transform(data[['Payment']])\n",
        "encoded_df = pd.DataFrame(encoded, columns=encoder.get_feature_names_out(['Payment']))\n",
        "data = pd.concat([data.drop('Payment', axis=1), encoded_df], axis=1)\n",
        "\n",
        "# Scaling\n",
        "scaler = MinMaxScaler()\n",
        "data[['Transaction']] = scaler.fit_transform(data[['Transaction']])\n",
        "\n",
        "# Handle imbalance\n",
        "X = data.drop('Fraud', axis=1)\n",
        "y = data['Fraud']\n",
        "sm = SMOTE(random_state=42, k_neighbors=1)\n",
        "X_res, y_res = sm.fit_resample(X, y)\n",
        "\n",
        "print(X_res.head())\n",
        "print(y_res.value_counts())"
      ],
      "metadata": {
        "colab": {
          "base_uri": "https://localhost:8080/"
        },
        "id": "4wRn7O17uU0g",
        "outputId": "9aff7392-841c-40f6-ffbc-59ac64f7dedf"
      },
      "execution_count": 7,
      "outputs": [
        {
          "output_type": "stream",
          "name": "stdout",
          "text": [
            "    Age  Transaction  Payment_Card  Payment_Cash  Payment_UPI  Payment_None\n",
            "0  25.0     0.000000           1.0           0.0          0.0           0.0\n",
            "1  35.0     0.059406           0.0           1.0          0.0           0.0\n",
            "2  35.0     0.001238           1.0           0.0          0.0           0.0\n",
            "3  35.0     0.000619           0.0           0.0          1.0           0.0\n",
            "4  45.0     1.000000           0.0           0.0          0.0           1.0\n",
            "Fraud\n",
            "0    3\n",
            "1    3\n",
            "Name: count, dtype: int64\n"
          ]
        },
        {
          "output_type": "stream",
          "name": "stderr",
          "text": [
            "/tmp/ipython-input-3134804746.py:22: FutureWarning: Downcasting behavior in Series and DataFrame methods 'where', 'mask', and 'clip' is deprecated. In a future version this will not infer object dtypes or cast all-round floats to integers. Instead call result.infer_objects(copy=False) for object inference, or cast round floats explicitly. To opt-in to the future behavior, set `pd.set_option('future.no_silent_downcasting', True)`\n",
            "  data['Transaction'] = data['Transaction'].clip(upper=data['Transaction'].quantile(0.95))\n"
          ]
        }
      ]
    }
  ]
}