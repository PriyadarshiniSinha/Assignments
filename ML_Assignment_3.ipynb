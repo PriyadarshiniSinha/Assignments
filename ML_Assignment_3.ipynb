{
  "nbformat": 4,
  "nbformat_minor": 0,
  "metadata": {
    "colab": {
      "provenance": []
    },
    "kernelspec": {
      "name": "python3",
      "display_name": "Python 3"
    },
    "language_info": {
      "name": "python"
    }
  },
  "cells": [
    {
      "cell_type": "markdown",
      "source": [
        "Question 1: What is Simple Linear Regression?\n",
        "\n"
      ],
      "metadata": {
        "id": "Xl9JqHXD3C6T"
      }
    },
    {
      "cell_type": "markdown",
      "source": [
        "Simple Linear Regression models the relationship between one independent variable\n",
        "𝑋\n",
        "X and one dependent variable\n",
        "𝑌\n",
        "Y by fitting a straight line:\n",
        "\n",
        "𝑌\n",
        "=\n",
        "𝛽\n",
        "0\n",
        "+\n",
        "𝛽\n",
        "1\n",
        "𝑋\n",
        "+\n",
        "𝜀\n",
        "Y=β\n",
        "0\n",
        "\t​\n",
        "\n",
        "+β\n",
        "1\n",
        "\t​\n",
        "\n",
        "X+ε\n",
        "\n",
        "where\n",
        "𝛽\n",
        "0\n",
        "β\n",
        "0\n",
        "\t​\n",
        "\n",
        " is the intercept,\n",
        "𝛽\n",
        "1\n",
        "β\n",
        "1\n",
        "\t​\n",
        "\n",
        " is the slope (change in\n",
        "𝑌\n",
        "Y per unit change in\n",
        "𝑋\n",
        "X), and\n",
        "𝜀\n",
        "ε is the error term. The model is typically fit by minimizing the sum of squared residuals (Ordinary Least Squares — OLS)."
      ],
      "metadata": {
        "id": "oypEHMIq3fj-"
      }
    },
    {
      "cell_type": "markdown",
      "source": [
        "Question 2: What are the key assumptions of Simple Linear Regression?\n",
        "\n",
        "Key OLS assumptions (classical linear regression assumptions):\n",
        "\n",
        "Linearity — The relationship between\n",
        "𝑋\n",
        "X and the expected value of\n",
        "𝑌\n",
        "Y is linear.\n",
        "\n",
        "Independence — Observations (and errors) are independent.\n",
        "\n",
        "Homoscedasticity — Errors have constant variance across values of\n",
        "𝑋\n",
        "X. (No heteroscedasticity.)\n",
        "\n",
        "Normality of errors — Errors\n",
        "𝜀\n",
        "ε are normally distributed (mainly for inference: t-tests, CIs).\n",
        "\n",
        "No perfect multicollinearity — (For multiple regression) predictors are not perfect linear combinations of each other.\n",
        "\n",
        "Exogeneity — Predictor(s) are uncorrelated with the error term (no omitted variable bias / no endogeneity).\n",
        "\n",
        "If these are violated, estimates may be biased, inefficient, or inference (p-values, CIs) may be invalid."
      ],
      "metadata": {
        "id": "xwtmRaFC3gln"
      }
    },
    {
      "cell_type": "markdown",
      "source": [
        "Question 3: What is heteroscedasticity, and why is it important to address in regression models?\n",
        "\n",
        "Heteroscedasticity means the variance of the regression errors is not constant across levels of the predictor(s). In other words, the spread of residuals changes with\n",
        "𝑋\n",
        "X or predicted\n",
        "𝑌\n",
        "Y.\n",
        "\n",
        "Why address it:\n",
        "\n",
        "OLS coefficient estimates remain unbiased but are no longer BLUE (not the Best Linear Unbiased Estimator) — they are inefficient.\n",
        "\n",
        "Standard errors become incorrect, causing unreliable hypothesis tests and confidence intervals (false positives/negatives).\n",
        "\n",
        "Remedies: transform the dependent variable (e.g., log), use weighted least squares (WLS), or use robust (heteroscedasticity-consistent) standard errors (e.g., HC0/HC3), or model variance explicitly."
      ],
      "metadata": {
        "id": "L4wA6gfa3-Sx"
      }
    },
    {
      "cell_type": "markdown",
      "source": [
        "Question 4: What is Multiple Linear Regression?\n",
        "\n",
        "Multiple Linear Regression extends simple linear regression to multiple predictors. The model:\n",
        "\n",
        "𝑌\n",
        "=\n",
        "𝛽\n",
        "0\n",
        "+\n",
        "𝛽\n",
        "1\n",
        "𝑋\n",
        "1\n",
        "+\n",
        "𝛽\n",
        "2\n",
        "𝑋\n",
        "2\n",
        "+\n",
        "⋯\n",
        "+\n",
        "𝛽\n",
        "𝑝\n",
        "𝑋\n",
        "𝑝\n",
        "+\n",
        "𝜀\n",
        "Y=β\n",
        "0\n",
        "\t​\n",
        "\n",
        "+β\n",
        "1\n",
        "\t​\n",
        "\n",
        "X\n",
        "1\n",
        "\t​\n",
        "\n",
        "+β\n",
        "2\n",
        "\t​\n",
        "\n",
        "X\n",
        "2\n",
        "\t​\n",
        "\n",
        "+⋯+β\n",
        "p\n",
        "\t​\n",
        "\n",
        "X\n",
        "p\n",
        "\t​\n",
        "\n",
        "+ε\n",
        "\n",
        "It estimates the conditional relationship between the dependent variable and each predictor while holding other predictors constant. Same assumptions as simple regression apply (with extra concern for multicollinearity)."
      ],
      "metadata": {
        "id": "fp4grF4B4_G0"
      }
    },
    {
      "cell_type": "markdown",
      "source": [
        "Question 5: What is polynomial regression, and how does it differ from linear regression?\n",
        "\n",
        "Polynomial regression is a special case of linear regression where predictors are powers (polynomial terms) of an original variable. For example, a 2nd-degree polynomial model:\n",
        "\n",
        "𝑌\n",
        "=\n",
        "𝛽\n",
        "0\n",
        "+\n",
        "𝛽\n",
        "1\n",
        "𝑋\n",
        "+\n",
        "𝛽\n",
        "2\n",
        "𝑋\n",
        "2\n",
        "+\n",
        "𝜀\n",
        "Y=β\n",
        "0\n",
        "\t​\n",
        "\n",
        "+β\n",
        "1\n",
        "\t​\n",
        "\n",
        "X+β\n",
        "2\n",
        "\t​\n",
        "\n",
        "X\n",
        "2\n",
        "+ε\n",
        "\n",
        "It is linear in the parameters (coefficients) even though the relationship between\n",
        "𝑋\n",
        "X and\n",
        "𝑌\n",
        "Y can be non-linear. This differs from simple linear regression because simple linear regression fits only a straight line; polynomial regression fits curves by adding higher-order terms."
      ],
      "metadata": {
        "id": "YECIoaC76aFJ"
      }
    },
    {
      "cell_type": "markdown",
      "source": [
        "Question 6: Implement a Python program to fit a Simple Linear Regression model to the sample data and plot the regression line."
      ],
      "metadata": {
        "id": "wE_0L4nL6s-L"
      }
    },
    {
      "cell_type": "code",
      "source": [
        "# Question 6: Simple Linear Regression example\n",
        "import numpy as np\n",
        "import matplotlib.pyplot as plt\n",
        "from sklearn.linear_model import LinearRegression\n",
        "\n",
        "# Data\n",
        "X = np.array([1, 2, 3, 4, 5]).reshape(-1, 1)\n",
        "Y = np.array([2.1, 4.3, 6.1, 7.9, 10.2])\n",
        "\n",
        "# Fit model\n",
        "model = LinearRegression()\n",
        "model.fit(X, Y)\n",
        "\n",
        "# Coefficients\n",
        "intercept = model.intercept_\n",
        "slope = model.coef_[0]\n",
        "print(f\"Intercept: {intercept:.4f}, Slope: {slope:.4f}\")\n",
        "\n",
        "# Predictions for plotting\n",
        "X_plot = np.linspace(X.min(), X.max(), 100).reshape(-1, 1)\n",
        "Y_plot = model.predict(X_plot)\n",
        "\n",
        "# Plot\n",
        "plt.scatter(X, Y, label='Data points')\n",
        "plt.plot(X_plot, Y_plot, label='Regression line')\n",
        "plt.xlabel('X')\n",
        "plt.ylabel('Y')\n",
        "plt.title('Simple Linear Regression')\n",
        "plt.legend()\n",
        "plt.grid(True)\n",
        "plt.show()\n"
      ],
      "metadata": {
        "colab": {
          "base_uri": "https://localhost:8080/",
          "height": 490
        },
        "id": "gBXN1WbN6yBw",
        "outputId": "95b182a4-51a2-4a41-aad7-e625b7116355"
      },
      "execution_count": 1,
      "outputs": [
        {
          "output_type": "stream",
          "name": "stdout",
          "text": [
            "Intercept: 0.1800, Slope: 1.9800\n"
          ]
        },
        {
          "output_type": "display_data",
          "data": {
            "text/plain": [
              "<Figure size 640x480 with 1 Axes>"
            ],
            "image/png": "[encoded data removed]"
          },
          "metadata": {}
        }
      ]
    },
    {
      "cell_type": "markdown",
      "source": [
        "Question 7: Fit a Multiple Linear Regression model and check VIF for multicollinearity.\n"
      ],
      "metadata": {
        "id": "PgPjEi588iMD"
      }
    },
    {
      "cell_type": "code",
      "source": [
        "# Question 7: Multiple Linear Regression + VIF\n",
        "import pandas as pd\n",
        "import numpy as np\n",
        "from sklearn.linear_model import LinearRegression\n",
        "import statsmodels.api as sm\n",
        "from statsmodels.stats.outliers_influence import variance_inflation_factor\n",
        "\n",
        "# Sample data\n",
        "data = pd.DataFrame({\n",
        "    'Area': [1200, 1500, 1800, 2000],\n",
        "    'Rooms': [2, 3, 3, 4],\n",
        "    'Price': [250000, 300000, 320000, 370000]\n",
        "})\n",
        "\n",
        "# Features and target\n",
        "X = data[['Area', 'Rooms']]\n",
        "y = data['Price']\n",
        "\n",
        "# Fit sklearn model\n",
        "lr = LinearRegression()\n",
        "lr.fit(X, y)\n",
        "print(\"Coefficients:\", dict(zip(X.columns, lr.coef_)))\n",
        "print(\"Intercept:\", lr.intercept_)\n",
        "\n",
        "# Calculate VIF\n",
        "# Add constant for statsmodels\n",
        "X_with_const = sm.add_constant(X)\n",
        "vif_data = pd.DataFrame()\n",
        "vif_data['feature'] = X_with_const.columns\n",
        "vif_data['VIF'] = [variance_inflation_factor(X_with_const.values, i)\n",
        "                   for i in range(X_with_const.shape[1])]\n",
        "print(\"\\nVIF values:\")\n",
        "print(vif_data)\n"
      ],
      "metadata": {
        "colab": {
          "base_uri": "https://localhost:8080/"
        },
        "id": "q8fpcNPR8rWe",
        "outputId": "908ced6c-168b-431a-ada4-7e2aca0a6416"
      },
      "execution_count": 2,
      "outputs": [
        {
          "output_type": "stream",
          "name": "stdout",
          "text": [
            "Coefficients: {'Area': np.float64(63.15789473684211), 'Rooms': np.float64(34736.842105263146)}\n",
            "Intercept: 103157.89473684214\n",
            "\n",
            "VIF values:\n",
            "  feature        VIF\n",
            "0   const  34.210526\n",
            "1    Area   7.736842\n",
            "2   Rooms   7.736842\n"
          ]
        }
      ]
    },
    {
      "cell_type": "markdown",
      "source": [
        "Interpretation guidelines:\n",
        "\n",
        "Ignore the VIF for the constant. For predictors, a common rule of thumb:\n",
        "\n",
        "VIF ≈ 1: no multicollinearity\n",
        "\n",
        "VIF > 5: moderate multicollinearity\n",
        "\n",
        "VIF > 10: high multicollinearity (serious)\n",
        "Given this tiny sample, VIF may be unstable — in real data use more observations."
      ],
      "metadata": {
        "id": "hYXS__S78wzp"
      }
    },
    {
      "cell_type": "markdown",
      "source": [
        "Question 8: Implement polynomial regression (2nd-degree) and plot the resulting curve."
      ],
      "metadata": {
        "id": "M_FUL0KC8yCB"
      }
    },
    {
      "cell_type": "code",
      "source": [
        "# Question 8: Polynomial Regression (degree 2)\n",
        "import numpy as np\n",
        "import matplotlib.pyplot as plt\n",
        "from sklearn.preprocessing import PolynomialFeatures\n",
        "from sklearn.linear_model import LinearRegression\n",
        "\n",
        "# Data\n",
        "X = np.array([1, 2, 3, 4, 5]).reshape(-1, 1)\n",
        "Y = np.array([2.2, 4.8, 7.5, 11.2, 14.7])\n",
        "\n",
        "# Create polynomial features (degree 2)\n",
        "poly = PolynomialFeatures(degree=2, include_bias=False)\n",
        "X_poly = poly.fit_transform(X)  # columns: [X, X^2]\n",
        "\n",
        "# Fit linear regression on polynomial features\n",
        "model = LinearRegression()\n",
        "model.fit(X_poly, Y)\n",
        "\n",
        "# Print coefficients\n",
        "print(\"Coefficients:\", model.coef_)\n",
        "print(\"Intercept:\", model.intercept_)\n",
        "\n",
        "# Plot\n",
        "X_plot = np.linspace(X.min(), X.max(), 200).reshape(-1, 1)\n",
        "X_plot_poly = poly.transform(X_plot)\n",
        "Y_plot = model.predict(X_plot_poly)\n",
        "\n",
        "plt.scatter(X, Y, label='Data points')\n",
        "plt.plot(X_plot, Y_plot, label='2nd-degree polynomial fit')\n",
        "plt.xlabel('X')\n",
        "plt.ylabel('Y')\n",
        "plt.title('Polynomial Regression (degree=2)')\n",
        "plt.legend()\n",
        "plt.grid(True)\n",
        "plt.show()\n"
      ],
      "metadata": {
        "colab": {
          "base_uri": "https://localhost:8080/",
          "height": 508
        },
        "id": "M_xaamAt82qx",
        "outputId": "43993825-9e73-4834-ed33-54fd61afaa22"
      },
      "execution_count": 3,
      "outputs": [
        {
          "output_type": "stream",
          "name": "stdout",
          "text": [
            "Coefficients: [1.94 0.2 ]\n",
            "Intercept: 0.0600000000000005\n"
          ]
        },
        {
          "output_type": "display_data",
          "data": {
            "text/plain": [
              "<Figure size 640x480 with 1 Axes>"
            ],
            "image/png": "[encoded data removed]"
          },
          "metadata": {}
        }
      ]
    },
    {
      "cell_type": "markdown",
      "source": [
        "Question 9: Create a residuals plot for the given data and assess heteroscedasticity."
      ],
      "metadata": {
        "id": "oJiqY6mY9E4d"
      }
    },
    {
      "cell_type": "code",
      "source": [
        "# Question 9: Residual plot and heteroscedasticity check\n",
        "import numpy as np\n",
        "import matplotlib.pyplot as plt\n",
        "from sklearn.linear_model import LinearRegression\n",
        "import statsmodels.api as sm\n",
        "from statsmodels.stats.diagnostic import het_breuschpagan\n",
        "\n",
        "# Data\n",
        "X = np.array([10, 20, 30, 40, 50]).reshape(-1, 1)\n",
        "Y = np.array([15, 35, 40, 50, 65])\n",
        "\n",
        "# Fit linear model\n",
        "model = LinearRegression()\n",
        "model.fit(X, Y)\n",
        "preds = model.predict(X)\n",
        "residuals = Y - preds\n",
        "\n",
        "# Residuals plot\n",
        "plt.scatter(preds, residuals)\n",
        "plt.axhline(0, color='black', linewidth=1)\n",
        "plt.xlabel('Predicted values')\n",
        "plt.ylabel('Residuals')\n",
        "plt.title('Residuals vs Predicted')\n",
        "plt.grid(True)\n",
        "plt.show()\n",
        "\n",
        "# Breusch-Pagan test for heteroscedasticity\n",
        "# Need to add constant for the test regression\n",
        "X_sm = sm.add_constant(X)\n",
        "bp_test = het_breuschpagan(residuals, X_sm)\n",
        "labels = ['Lagrange multiplier statistic', 'p-value', 'f-value', 'f p-value']\n",
        "print(dict(zip(labels, bp_test)))\n"
      ],
      "metadata": {
        "colab": {
          "base_uri": "https://localhost:8080/",
          "height": 510
        },
        "id": "AO2URC4W9G-_",
        "outputId": "8a2cc48e-9fbc-4ac9-b3c4-f3c6ae7289b5"
      },
      "execution_count": 4,
      "outputs": [
        {
          "output_type": "display_data",
          "data": {
            "text/plain": [
              "<Figure size 640x480 with 1 Axes>"
            ],
            "image/png": "[encoded data removed]"
          },
          "metadata": {}
        },
        {
          "output_type": "stream",
          "name": "stdout",
          "text": [
            "{'Lagrange multiplier statistic': np.float64(1.3654789844249975), 'p-value': np.float64(0.2425901780843885), 'f-value': np.float64(1.127091282653352), 'f p-value': np.float64(0.36628923988686196)}\n"
          ]
        }
      ]
    },
    {
      "cell_type": "markdown",
      "source": [
        "Question 10: You’re a data scientist for real estate; heteroscedasticity and multicollinearity detected. Steps to address and ensure a robust model.\n",
        "\n",
        "Answer (step-by-step):\n",
        "\n",
        "Understand the issues\n",
        "\n",
        "For multicollinearity: predictors highly correlated, inflating standard errors, unstable coefficients.\n",
        "\n",
        "For heteroscedasticity: non-constant error variance, invalid standard errors and tests.\n",
        "\n",
        "Address multicollinearity\n",
        "\n",
        "Examine correlations & VIFs. Identify pairs or sets of highly correlated predictors.\n",
        "\n",
        "Remove or combine predictors. Drop redundant features (e.g., highly correlated derived features), or combine them into a single index (e.g., principal component, or average).\n",
        "\n",
        "Use feature engineering. E.g., instead of Area and Area per room both included, choose one or create a ratio.\n",
        "\n",
        "Regularization. Use Ridge or Lasso regression (shrinkage reduces variance of coefficients). Ridge handles multicollinearity well.\n",
        "\n",
        "Dimensionality reduction. PCA or partial least squares (PLS) if many features.\n",
        "\n",
        "Address heteroscedasticity\n",
        "\n",
        "Transform the target. Commonly log(price) stabilizes variance (works well when variance grows with mean). Fit model on transformed target and interpret accordingly (use exponentiation when predicting).\n",
        "\n",
        "Weighted Least Squares (WLS). Assign weights inversely proportional to variance (if variance structure known/estimable).\n",
        "\n",
        "Use robust standard errors. If only inference is a concern and you don’t want to transform model form, use heteroscedasticity-consistent (HC) standard errors (e.g., HC3) to get valid p-values/CIs.\n",
        "\n",
        "Model variance explicitly. Use models like generalized least squares (GLS) or heteroscedastic regression models.\n",
        "\n",
        "Model selection & validation\n",
        "\n",
        "Cross-validate models (K-fold CV) using appropriate scoring (e.g., RMSE on original or transformed scale).\n",
        "\n",
        "Compare models: OLS, Ridge/Lasso, models on log-target, WLS. Choose based on predictive performance and interpretability.\n",
        "\n",
        "Check residuals again after changes (plots, BP test) to confirm improvements.\n",
        "\n",
        "Practical steps for real estate\n",
        "\n",
        "Log-transform price: most real estate prices are right-skewed; log(price) often stabilizes variance.\n",
        "\n",
        "Use domain-informed features: e.g., distance to city center, neighborhood dummies (encode location), age of property, amenities. Avoid including multiple highly-overlapping location features.\n",
        "\n",
        "Regularization & ensemble: Use Ridge or tree-based models (random forest, gradient boosting) if relationships non-linear and complex. Tree-based methods are robust to monotonic heteroscedasticity and multicollinearity (they handle correlated predictors better for prediction; coefficient interpretation differs).\n",
        "\n",
        "Explainability: If interpretability is required, prefer simpler models with careful feature selection and regularization. Use SHAP or partial dependence for tree models.\n",
        "\n",
        "Reporting\n",
        "\n",
        "Report which transformations/techniques were used and why. Show residual diagnostics before and after. For business stakeholders, present results in price-prediction accuracy (RMSE, MAE), and the effect of transformations (e.g., % error on original scale).\n",
        "\n",
        "Notes & Practical Tips\n",
        "\n",
        "For small datasets, statistics like VIF and formal tests can be unstable; collect more data if possible.\n",
        "\n",
        "When you transform the target (e.g., log), remember to back-transform predictions carefully (use bias correction if needed).\n",
        "\n",
        "For production systems, validate on a hold-out and monitor model performance over time (concept drift, changing price distributions."
      ],
      "metadata": {
        "id": "POVCBa5V9P-f"
      }
    }
  ]
}