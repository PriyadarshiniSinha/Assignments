{
  "nbformat": 4,
  "nbformat_minor": 0,
  "metadata": {
    "colab": {
      "provenance": []
    },
    "kernelspec": {
      "name": "python3",
      "display_name": "Python 3"
    },
    "language_info": {
      "name": "python"
    }
  },
  "cells": [
    {
      "cell_type": "markdown",
      "source": [
        "1. What is Object-Oriented Programming (OOP)?\n",
        "\n",
        "OOP is a programming paradigm based on the concept of \"objects\", which contain data (attributes) and code (methods). It emphasizes reusability, modularity, and abstraction using principles like encapsulation, inheritance, and polymorphism."
      ],
      "metadata": {
        "id": "jRYzVrRGnGL5"
      }
    },
    {
      "cell_type": "code",
      "execution_count": null,
      "metadata": {
        "id": "bwUBGjZxmzU_"
      },
      "outputs": [],
      "source": []
    },
    {
      "cell_type": "markdown",
      "source": [
        "2. What is a class in OOP?\n",
        "\n",
        "\n",
        "A class is a blueprint or template for creating objects. It defines the properties (attributes) and behaviors (methods) that its objects will have.\n",
        "\n"
      ],
      "metadata": {
        "id": "QkYrMJVAnNQv"
      }
    },
    {
      "cell_type": "markdown",
      "source": [
        "3. What is an object in OOP?\n",
        "\n",
        "\n",
        "An object is an instance of a class. It has a unique identity and contains real data. For example:"
      ],
      "metadata": {
        "id": "AG7CcJwunV4W"
      }
    },
    {
      "cell_type": "code",
      "source": [
        "class Dog:\n",
        "    pass\n",
        "\n",
        "d1 = Dog()  # d1 is an object of class Dog"
      ],
      "metadata": {
        "id": "vZf_0owhnmjm"
      },
      "execution_count": 1,
      "outputs": []
    },
    {
      "cell_type": "markdown",
      "source": [
        "4. What is the difference between abstraction and encapsulation?\n",
        "\n",
        "\n",
        "Abstraction hides complexity by showing only essential features (focus on what).\n",
        "\n",
        "Encapsulation restricts direct access to internal state (focus on how)."
      ],
      "metadata": {
        "id": "r2jfgtLdnsk4"
      }
    },
    {
      "cell_type": "markdown",
      "source": [
        "5. What are dunder methods in Python?\n",
        "\n",
        "\n",
        "Dunder (Double Underscore) methods, like __init__, __str__, __repr__, are special methods used to define the behavior of objects for operators and built-in functions."
      ],
      "metadata": {
        "id": "oC_howVCny2J"
      }
    },
    {
      "cell_type": "markdown",
      "source": [
        "6. Explain the concept of inheritance in OOP.\n",
        "\n",
        "\n",
        "Inheritance allows a class (child/subclass) to acquire properties and methods from another class (parent/superclass), enabling code reuse."
      ],
      "metadata": {
        "id": "6x5SlBcvn6Jr"
      }
    },
    {
      "cell_type": "code",
      "source": [
        "class Animal:\n",
        "    def speak(self): pass\n",
        "\n",
        "class Dog(Animal):\n",
        "    def speak(self):\n",
        "        return \"Bark\""
      ],
      "metadata": {
        "id": "xgiddVpWn-I4"
      },
      "execution_count": 6,
      "outputs": []
    },
    {
      "cell_type": "markdown",
      "source": [
        "7. What is polymorphism in OOP?\n",
        "\n",
        "Polymorphism allows objects of different classes to be treated as objects of a common superclass. It lets the same method name behave differently depending on the object."
      ],
      "metadata": {
        "id": "WmeR9SK6oM7V"
      }
    },
    {
      "cell_type": "markdown",
      "source": [
        "8. How is encapsulation achieved in Python?\n",
        "\n",
        "\n",
        "Encapsulation is achieved using private (__var) or protected (_var) variables and providing getter/setter methods."
      ],
      "metadata": {
        "id": "KndAgPp8oizV"
      }
    },
    {
      "cell_type": "markdown",
      "source": [
        "9. What is a constructor in Python?\n",
        "\n",
        "\n",
        "The __init__ method acts as a constructor, automatically called when an object is created to initialize its attributes."
      ],
      "metadata": {
        "id": "Bp3rqxPYoqSd"
      }
    },
    {
      "cell_type": "code",
      "source": [
        "class Person:\n",
        "    def __init__(self, name):\n",
        "        self.name = name"
      ],
      "metadata": {
        "id": "SpS3q4jGor48"
      },
      "execution_count": 7,
      "outputs": []
    },
    {
      "cell_type": "markdown",
      "source": [
        "10. What are class and static methods in Python?\n",
        "\n",
        "\n",
        "@classmethod: Takes cls as the first argument and can access/modify class state.\n",
        "\n",
        "@staticmethod: Does not take self or cls; behaves like a regular function inside a class."
      ],
      "metadata": {
        "id": "qTCx9XmsoxBC"
      }
    },
    {
      "cell_type": "markdown",
      "source": [
        "11. What is method overloading in Python?\n",
        "\n",
        "\n",
        "Python does not support method overloading natively (like Java). You simulate it by using default arguments or *args, **kwargs."
      ],
      "metadata": {
        "id": "uTzGLVOQpImK"
      }
    },
    {
      "cell_type": "markdown",
      "source": [
        "12. What is method overriding in OOP?\n",
        "\n",
        "\n",
        "Overriding means redefining a method in a child class that already exists in the parent class."
      ],
      "metadata": {
        "id": "66yHfF0VpPHf"
      }
    },
    {
      "cell_type": "code",
      "source": [
        "class Parent:\n",
        "    def show(self): print(\"Parent\")\n",
        "\n",
        "class Child(Parent):\n",
        "    def show(self): print(\"Child\")"
      ],
      "metadata": {
        "id": "XkVOTDRqpSaQ"
      },
      "execution_count": 8,
      "outputs": []
    },
    {
      "cell_type": "markdown",
      "source": [
        "13. What is a property decorator in Python?\n",
        "\n",
        "\n",
        "@property makes a method accessible like an attribute. Often used for getters/setters."
      ],
      "metadata": {
        "id": "CdnqLQMFpUCv"
      }
    },
    {
      "cell_type": "code",
      "source": [
        "class Circle:\n",
        "    def __init__(self, radius):\n",
        "        self._radius = radius\n",
        "\n",
        "    @property\n",
        "    def area(self):\n",
        "        return 3.14 * self._radius ** 2"
      ],
      "metadata": {
        "id": "I0dxYpJjpft-"
      },
      "execution_count": 9,
      "outputs": []
    },
    {
      "cell_type": "markdown",
      "source": [
        "14. Why is polymorphism important in OOP?\n",
        "\n",
        "\n",
        "Polymorphism promotes flexibility and scalability, allowing functions or methods to work with different types of inputs or class objects."
      ],
      "metadata": {
        "id": "UbBiI0_CplBJ"
      }
    },
    {
      "cell_type": "markdown",
      "source": [
        "15. What is an abstract class in Python?\n",
        "\n",
        "\n",
        "An abstract class contains one or more abstract methods (declared but not implemented). Use the abc module."
      ],
      "metadata": {
        "id": "ISRcEE1upq7S"
      }
    },
    {
      "cell_type": "code",
      "source": [
        "from abc import ABC, abstractmethod\n",
        "\n",
        "class Shape(ABC):\n",
        "    @abstractmethod\n",
        "    def area(self): pass"
      ],
      "metadata": {
        "id": "rRw50VSnpugO"
      },
      "execution_count": null,
      "outputs": []
    },
    {
      "cell_type": "markdown",
      "source": [
        "16. What are the advantages of OOP?\n",
        "\n",
        "\n",
        "Reusability (via inheritance)\n",
        "\n",
        "Modularity (via classes)\n",
        "\n",
        "Abstraction\n",
        "\n",
        "Easy maintenance and debugging\n",
        "\n",
        "Scalability and flexibility"
      ],
      "metadata": {
        "id": "sZeol2AhpvUn"
      }
    },
    {
      "cell_type": "markdown",
      "source": [
        "17. What is multiple inheritance in Python?\n",
        "\n",
        "\n",
        "When a class inherits from more than one parent class, it’s multiple inheritance."
      ],
      "metadata": {
        "id": "cTMREE1rqavI"
      }
    },
    {
      "cell_type": "code",
      "source": [
        "class A: pass\n",
        "class B: pass\n",
        "class C(A, B): pass"
      ],
      "metadata": {
        "id": "gZFwdn6Zqb-p"
      },
      "execution_count": 10,
      "outputs": []
    },
    {
      "cell_type": "markdown",
      "source": [
        "18. What is the difference between a class variable and an instance variable?\n",
        "\n",
        "\n",
        "Class variable: Shared among all objects of the class.\n",
        "\n",
        "Instance variable: Unique to each object."
      ],
      "metadata": {
        "id": "52oKrkKyqfG0"
      }
    },
    {
      "cell_type": "markdown",
      "source": [
        "19. Explain the purpose of __str__ and __repr__ methods in Python.\n",
        "\n",
        "\n",
        "__str__: Returns readable string (used with print()).\n",
        "\n",
        "__repr__: Returns formal string for debugging (used in interpreter).\n",
        "\n"
      ],
      "metadata": {
        "id": "AajY18dxqlM1"
      }
    },
    {
      "cell_type": "markdown",
      "source": [
        "20. What is the significance of the super() function in Python?\n",
        "\n",
        "\n",
        "super() allows you to call methods of the parent class. Useful in inheritance to initialize the superclass.\n",
        "\n"
      ],
      "metadata": {
        "id": "5oAfa7y1qtOH"
      }
    },
    {
      "cell_type": "markdown",
      "source": [
        "21. What is the significance of the __del__ method in Python?\n",
        "\n",
        "\n",
        "__del__ is the destructor method, called when an object is about to be destroyed (used for cleanup)."
      ],
      "metadata": {
        "id": "35IcDzcLqxtY"
      }
    },
    {
      "cell_type": "markdown",
      "source": [
        "22. What is the difference between @staticmethod and @classmethod in Python?\n",
        "\n",
        "| Aspect    | `@staticmethod`           | `@classmethod`                  |\n",
        "| --------- | ------------------------- | ------------------------------- |\n",
        "| First Arg | None                      | `cls` (class reference)         |\n",
        "| Access    | Can't access class/object | Can access/modify class state   |\n",
        "| Use Case  | Utility methods           | Factory methods, class-wide ops |\n"
      ],
      "metadata": {
        "id": "QZdDzG9IqzFt"
      }
    },
    {
      "cell_type": "markdown",
      "source": [
        "23. How does polymorphism work in Python with inheritance?\n",
        "\n",
        "\n",
        "A parent class reference can refer to a child class object and execute the overridden method (dynamic dispatch)."
      ],
      "metadata": {
        "id": "1oX40TXJuIma"
      }
    },
    {
      "cell_type": "code",
      "source": [
        "class Animal:\n",
        "    def speak(self): print(\"Animal speaks\")\n",
        "\n",
        "class Dog(Animal):\n",
        "    def speak(self): print(\"Bark\")\n",
        "\n",
        "a = Dog()\n",
        "a.speak()  # Output: Bark"
      ],
      "metadata": {
        "colab": {
          "base_uri": "https://localhost:8080/"
        },
        "id": "zW8ky3z5xSJ1",
        "outputId": "6a515d7e-7b61-484b-e5c0-7f8113e25745"
      },
      "execution_count": 11,
      "outputs": [
        {
          "output_type": "stream",
          "name": "stdout",
          "text": [
            "Bark\n"
          ]
        }
      ]
    },
    {
      "cell_type": "markdown",
      "source": [
        "24. What is method chaining in Python OOP?\n",
        "\n",
        "\n",
        "Calling multiple methods on the same object in one line, made possible by returning self.\n",
        "\n",
        "python\n",
        "Copy\n",
        "Edit\n"
      ],
      "metadata": {
        "id": "98qqNJiPxZnQ"
      }
    },
    {
      "cell_type": "code",
      "source": [
        "class Person:\n",
        "    def setName(self, name):\n",
        "        self.name = name\n",
        "        return self\n",
        "\n",
        "    def setAge(self, age):\n",
        "        self.age = age\n",
        "        return self\n",
        "\n",
        "p = Person().setName(\"Alice\").setAge(25)"
      ],
      "metadata": {
        "id": "YK5rf41-xd2P"
      },
      "execution_count": 12,
      "outputs": []
    },
    {
      "cell_type": "markdown",
      "source": [
        "25. What is the purpose of the __call__ method in Python?\n",
        "\n",
        "\n",
        "Makes an instance callable like a function."
      ],
      "metadata": {
        "id": "uzeSn7FLx44r"
      }
    },
    {
      "cell_type": "code",
      "source": [
        "class Greeter:\n",
        "    def __call__(self, name):\n",
        "        return f\"Hello, {name}!\"\n",
        "\n",
        "g = Greeter()\n",
        "print(g(\"Priya\"))  # Output: Hello, Priya!\n"
      ],
      "metadata": {
        "colab": {
          "base_uri": "https://localhost:8080/"
        },
        "id": "f--kWDacx8r7",
        "outputId": "c238ab0b-00f3-4b68-880a-b137ca28081f"
      },
      "execution_count": 13,
      "outputs": [
        {
          "output_type": "stream",
          "name": "stdout",
          "text": [
            "Hello, Priya!\n"
          ]
        }
      ]
    },
    {
      "cell_type": "markdown",
      "source": [
        "Practical Questions"
      ],
      "metadata": {
        "id": "SwGPTZCsyaOY"
      }
    },
    {
      "cell_type": "code",
      "source": [
        "✅ 1. Parent and Child Class with Method Override"
      ],
      "metadata": {
        "id": "-z9ZcPRFycJP"
      },
      "execution_count": null,
      "outputs": []
    },
    {
      "cell_type": "code",
      "source": [
        "class Animal:\n",
        "    def speak(self):\n",
        "        print(\"Animal speaks.\")\n",
        "\n",
        "class Dog(Animal):\n",
        "    def speak(self):\n",
        "        print(\"Bark!\")\n",
        "\n",
        "d = Dog()\n",
        "d.speak()"
      ],
      "metadata": {
        "colab": {
          "base_uri": "https://localhost:8080/"
        },
        "id": "zrL6RMyey39T",
        "outputId": "cbdf6949-f79f-4299-935a-1c23aaf8e79a"
      },
      "execution_count": 14,
      "outputs": [
        {
          "output_type": "stream",
          "name": "stdout",
          "text": [
            "Bark!\n"
          ]
        }
      ]
    },
    {
      "cell_type": "markdown",
      "source": [
        "✅ 2. Abstract Class with Area Method"
      ],
      "metadata": {
        "id": "gjob--eAy-7g"
      }
    },
    {
      "cell_type": "code",
      "source": [
        "from abc import ABC, abstractmethod\n",
        "\n",
        "class Shape(ABC):\n",
        "    @abstractmethod\n",
        "    def area(self):\n",
        "        pass\n",
        "\n",
        "class Circle(Shape):\n",
        "    def __init__(self, radius):\n",
        "        self.radius = radius\n",
        "\n",
        "    def area(self):\n",
        "        return 3.14 * self.radius ** 2\n",
        "\n",
        "class Rectangle(Shape):\n",
        "    def __init__(self, width, height):\n",
        "        self.width = width\n",
        "        self.height = height\n",
        "\n",
        "    def area(self):\n",
        "        return self.width * self.height\n",
        "\n",
        "c = Circle(5)\n",
        "r = Rectangle(4, 6)\n",
        "print(c.area())\n",
        "print(r.area())"
      ],
      "metadata": {
        "colab": {
          "base_uri": "https://localhost:8080/"
        },
        "id": "OojD7m1cy_xc",
        "outputId": "f892b34d-e5eb-46dd-b241-c28c7ba03d5e"
      },
      "execution_count": 15,
      "outputs": [
        {
          "output_type": "stream",
          "name": "stdout",
          "text": [
            "78.5\n",
            "24\n"
          ]
        }
      ]
    },
    {
      "cell_type": "markdown",
      "source": [
        "✅ 3. Multi-level Inheritance"
      ],
      "metadata": {
        "id": "2lFIV9S4zlRR"
      }
    },
    {
      "cell_type": "code",
      "source": [
        "class Vehicle:\n",
        "    def __init__(self, type):\n",
        "        self.type = type\n",
        "\n",
        "class Car(Vehicle):\n",
        "    def __init__(self, type, brand):\n",
        "        super().__init__(type)\n",
        "        self.brand = brand\n",
        "\n",
        "class ElectricCar(Car):\n",
        "    def __init__(self, type, brand, battery):\n",
        "        super().__init__(type, brand)\n",
        "        self.battery = battery\n",
        "\n",
        "ec = ElectricCar(\"4-wheeler\", \"Tesla\", \"100 kWh\")\n",
        "print(ec.type, ec.brand, ec.battery)"
      ],
      "metadata": {
        "colab": {
          "base_uri": "https://localhost:8080/"
        },
        "id": "hUNIrv2Mzn0o",
        "outputId": "348eb314-f3b2-47f2-e6d2-98f08505c4e5"
      },
      "execution_count": 16,
      "outputs": [
        {
          "output_type": "stream",
          "name": "stdout",
          "text": [
            "4-wheeler Tesla 100 kWh\n"
          ]
        }
      ]
    },
    {
      "cell_type": "markdown",
      "source": [
        "✅ 4. Polymorphism Example"
      ],
      "metadata": {
        "id": "Ewuv6ZrB0AIe"
      }
    },
    {
      "cell_type": "code",
      "source": [
        "class Bird:\n",
        "    def fly(self):\n",
        "        print(\"Some bird is flying.\")\n",
        "\n",
        "class Sparrow(Bird):\n",
        "    def fly(self):\n",
        "        print(\"Sparrow flies high.\")\n",
        "\n",
        "class Penguin(Bird):\n",
        "    def fly(self):\n",
        "        print(\"Penguins can't fly.\")\n",
        "\n",
        "for bird in [Sparrow(), Penguin()]:\n",
        "    bird.fly()"
      ],
      "metadata": {
        "colab": {
          "base_uri": "https://localhost:8080/"
        },
        "id": "dh5hkhav0Crx",
        "outputId": "708f2f9a-a5a5-43d2-e6f2-e14b57aa26d0"
      },
      "execution_count": 17,
      "outputs": [
        {
          "output_type": "stream",
          "name": "stdout",
          "text": [
            "Sparrow flies high.\n",
            "Penguins can't fly.\n"
          ]
        }
      ]
    },
    {
      "cell_type": "markdown",
      "source": [
        "✅ 5. Encapsulation Example"
      ],
      "metadata": {
        "id": "kNbsmjnq0KaD"
      }
    },
    {
      "cell_type": "code",
      "source": [
        "class BankAccount:\n",
        "    def __init__(self, balance=0):\n",
        "        self.__balance = balance\n",
        "\n",
        "    def deposit(self, amount):\n",
        "        self.__balance += amount\n",
        "\n",
        "    def withdraw(self, amount):\n",
        "        if amount <= self.__balance:\n",
        "            self.__balance -= amount\n",
        "        else:\n",
        "            print(\"Insufficient balance.\")\n",
        "\n",
        "    def get_balance(self):\n",
        "        return self.__balance\n",
        "\n",
        "acc = BankAccount()\n",
        "acc.deposit(500)\n",
        "acc.withdraw(100)\n",
        "print(acc.get_balance())\n"
      ],
      "metadata": {
        "colab": {
          "base_uri": "https://localhost:8080/"
        },
        "id": "IQJ2OqgW0OSG",
        "outputId": "30ab11f8-f8fe-43ae-c2da-fc5c2b62ea8a"
      },
      "execution_count": 18,
      "outputs": [
        {
          "output_type": "stream",
          "name": "stdout",
          "text": [
            "400\n"
          ]
        }
      ]
    },
    {
      "cell_type": "markdown",
      "source": [
        "✅ 6. Runtime Polymorphism"
      ],
      "metadata": {
        "id": "UekZgqzQ0UR-"
      }
    },
    {
      "cell_type": "code",
      "source": [
        "class Instrument:\n",
        "    def play(self):\n",
        "        print(\"Instrument is playing.\")\n",
        "\n",
        "class Guitar(Instrument):\n",
        "    def play(self):\n",
        "        print(\"Guitar is strumming.\")\n",
        "\n",
        "class Piano(Instrument):\n",
        "    def play(self):\n",
        "        print(\"Piano is playing.\")\n",
        "\n",
        "for inst in [Guitar(), Piano()]:\n",
        "    inst.play()\n"
      ],
      "metadata": {
        "colab": {
          "base_uri": "https://localhost:8080/"
        },
        "id": "pNsF5FDL0XkO",
        "outputId": "23f230fa-8d18-4645-edda-810191aeeb64"
      },
      "execution_count": 19,
      "outputs": [
        {
          "output_type": "stream",
          "name": "stdout",
          "text": [
            "Guitar is strumming.\n",
            "Piano is playing.\n"
          ]
        }
      ]
    },
    {
      "cell_type": "markdown",
      "source": [
        "✅ 7. Class and Static Methods"
      ],
      "metadata": {
        "id": "7zQUY5cB0bZH"
      }
    },
    {
      "cell_type": "code",
      "source": [
        "class MathOperations:\n",
        "    @classmethod\n",
        "    def add_numbers(cls, a, b):\n",
        "        return a + b\n",
        "\n",
        "    @staticmethod\n",
        "    def subtract_numbers(a, b):\n",
        "        return a - b\n",
        "\n",
        "print(MathOperations.add_numbers(5, 3))\n",
        "print(MathOperations.subtract_numbers(10, 4))\n"
      ],
      "metadata": {
        "colab": {
          "base_uri": "https://localhost:8080/"
        },
        "id": "UDXsCUWc0ekX",
        "outputId": "af8d998a-2872-4b98-bcc1-3203ac488aa9"
      },
      "execution_count": 20,
      "outputs": [
        {
          "output_type": "stream",
          "name": "stdout",
          "text": [
            "8\n",
            "6\n"
          ]
        }
      ]
    },
    {
      "cell_type": "markdown",
      "source": [
        "✅ 8. Counting Instances with Class Method"
      ],
      "metadata": {
        "id": "ZssH6RR-0hum"
      }
    },
    {
      "cell_type": "code",
      "source": [
        "class Person:\n",
        "    count = 0\n",
        "\n",
        "    def __init__(self):\n",
        "        Person.count += 1\n",
        "\n",
        "    @classmethod\n",
        "    def total_persons(cls):\n",
        "        return cls.count\n",
        "\n",
        "p1 = Person()\n",
        "p2 = Person()\n",
        "print(Person.total_persons())\n"
      ],
      "metadata": {
        "colab": {
          "base_uri": "https://localhost:8080/"
        },
        "id": "TE1OIMug0lUP",
        "outputId": "8e1f6fa1-8ffd-403a-80f1-b80110231fa9"
      },
      "execution_count": 21,
      "outputs": [
        {
          "output_type": "stream",
          "name": "stdout",
          "text": [
            "2\n"
          ]
        }
      ]
    },
    {
      "cell_type": "markdown",
      "source": [
        "✅ 9. Fraction with __str__"
      ],
      "metadata": {
        "id": "49okYxHN0pmV"
      }
    },
    {
      "cell_type": "code",
      "source": [
        "class Fraction:\n",
        "    def __init__(self, num, den):\n",
        "        self.num = num\n",
        "        self.den = den\n",
        "\n",
        "    def __str__(self):\n",
        "        return f\"{self.num}/{self.den}\"\n",
        "\n",
        "f = Fraction(3, 4)\n",
        "print(f)\n"
      ],
      "metadata": {
        "colab": {
          "base_uri": "https://localhost:8080/"
        },
        "id": "wZeU2Gmd0sYC",
        "outputId": "6427d7d5-931c-472d-cfca-9480137168df"
      },
      "execution_count": 22,
      "outputs": [
        {
          "output_type": "stream",
          "name": "stdout",
          "text": [
            "3/4\n"
          ]
        }
      ]
    },
    {
      "cell_type": "markdown",
      "source": [
        "✅ 10. Operator Overloading"
      ],
      "metadata": {
        "id": "JhNdOiX70vx_"
      }
    },
    {
      "cell_type": "code",
      "source": [
        "class Vector:\n",
        "    def __init__(self, x, y):\n",
        "        self.x = x\n",
        "        self.y = y\n",
        "\n",
        "    def __add__(self, other):\n",
        "        return Vector(self.x + other.x, self.y + other.y)\n",
        "\n",
        "    def __str__(self):\n",
        "        return f\"({self.x}, {self.y})\"\n",
        "\n",
        "v1 = Vector(2, 3)\n",
        "v2 = Vector(4, 5)\n",
        "v3 = v1 + v2\n",
        "print(v3)\n"
      ],
      "metadata": {
        "colab": {
          "base_uri": "https://localhost:8080/"
        },
        "id": "atGLz7Vk0zBV",
        "outputId": "8336252b-d3a4-49e0-d857-da0b448ebf2c"
      },
      "execution_count": 23,
      "outputs": [
        {
          "output_type": "stream",
          "name": "stdout",
          "text": [
            "(6, 8)\n"
          ]
        }
      ]
    },
    {
      "cell_type": "markdown",
      "source": [
        "✅ 11. Person Greet Method"
      ],
      "metadata": {
        "id": "FMUFS8X402C3"
      }
    },
    {
      "cell_type": "code",
      "source": [
        "class Person:\n",
        "    def __init__(self, name, age):\n",
        "        self.name = name\n",
        "        self.age = age\n",
        "\n",
        "    def greet(self):\n",
        "        print(f\"Hello, my name is {self.name} and I am {self.age} years old.\")\n",
        "\n",
        "p = Person(\"Priya\", 22)\n",
        "p.greet()\n"
      ],
      "metadata": {
        "colab": {
          "base_uri": "https://localhost:8080/"
        },
        "id": "AdgVCVDB058M",
        "outputId": "99bd033b-f1d1-4176-f05a-2290c12cf37a"
      },
      "execution_count": 24,
      "outputs": [
        {
          "output_type": "stream",
          "name": "stdout",
          "text": [
            "Hello, my name is Priya and I am 22 years old.\n"
          ]
        }
      ]
    },
    {
      "cell_type": "markdown",
      "source": [
        "✅ 12. Student Average Grade"
      ],
      "metadata": {
        "id": "DZB1LjlJ091C"
      }
    },
    {
      "cell_type": "code",
      "source": [
        "class Student:\n",
        "    def __init__(self, name, grades):\n",
        "        self.name = name\n",
        "        self.grades = grades\n",
        "\n",
        "    def average_grade(self):\n",
        "        return sum(self.grades) / len(self.grades)\n",
        "\n",
        "s = Student(\"Rahul\", [80, 90, 85])\n",
        "print(s.average_grade())\n"
      ],
      "metadata": {
        "colab": {
          "base_uri": "https://localhost:8080/"
        },
        "id": "W7IeD8M60-6r",
        "outputId": "c3d028d1-1122-49b8-f664-15a726e1e5ce"
      },
      "execution_count": 25,
      "outputs": [
        {
          "output_type": "stream",
          "name": "stdout",
          "text": [
            "85.0\n"
          ]
        }
      ]
    },
    {
      "cell_type": "markdown",
      "source": [
        "✅ 13. Rectangle Dimensions and Area"
      ],
      "metadata": {
        "id": "VrCGKVRW1CHm"
      }
    },
    {
      "cell_type": "code",
      "source": [
        "class Rectangle:\n",
        "    def set_dimensions(self, width, height):\n",
        "        self.width = width\n",
        "        self.height = height\n",
        "\n",
        "    def area(self):\n",
        "        return self.width * self.height\n",
        "\n",
        "r = Rectangle()\n",
        "r.set_dimensions(5, 10)\n",
        "print(r.area())\n"
      ],
      "metadata": {
        "colab": {
          "base_uri": "https://localhost:8080/"
        },
        "id": "4iIerYXL1E1b",
        "outputId": "11bed72e-7c07-4690-c66c-4b984c9b6b7e"
      },
      "execution_count": 26,
      "outputs": [
        {
          "output_type": "stream",
          "name": "stdout",
          "text": [
            "50\n"
          ]
        }
      ]
    },
    {
      "cell_type": "markdown",
      "source": [
        "✅ 14. Employee and Manager Salary"
      ],
      "metadata": {
        "id": "d5vlTRVc1JtY"
      }
    },
    {
      "cell_type": "code",
      "source": [
        "class Employee:\n",
        "    def calculate_salary(self, hours, rate):\n",
        "        return hours * rate\n",
        "\n",
        "class Manager(Employee):\n",
        "    def calculate_salary(self, hours, rate, bonus):\n",
        "        base = super().calculate_salary(hours, rate)\n",
        "        return base + bonus\n",
        "\n",
        "m = Manager()\n",
        "print(m.calculate_salary(40, 100, 500))\n"
      ],
      "metadata": {
        "colab": {
          "base_uri": "https://localhost:8080/"
        },
        "id": "viyAjnJg1N8m",
        "outputId": "14e6197a-86a4-47ca-a86c-ffacd401154f"
      },
      "execution_count": 27,
      "outputs": [
        {
          "output_type": "stream",
          "name": "stdout",
          "text": [
            "4500\n"
          ]
        }
      ]
    },
    {
      "cell_type": "markdown",
      "source": [
        "✅ 15. Product Total Price\n",
        "\n"
      ],
      "metadata": {
        "id": "RasEQVkP1b1k"
      }
    },
    {
      "cell_type": "code",
      "source": [
        "class Product:\n",
        "    def __init__(self, name, price, quantity):\n",
        "        self.name = name\n",
        "        self.price = price\n",
        "        self.quantity = quantity\n",
        "\n",
        "    def total_price(self):\n",
        "        return self.price * self.quantity\n",
        "\n",
        "p = Product(\"Laptop\", 50000, 2)\n",
        "print(p.total_price())\n"
      ],
      "metadata": {
        "colab": {
          "base_uri": "https://localhost:8080/"
        },
        "id": "1HDnFLrz1f51",
        "outputId": "b8a9f5f3-1240-4ab6-dd3f-fd9e01c16f94"
      },
      "execution_count": 28,
      "outputs": [
        {
          "output_type": "stream",
          "name": "stdout",
          "text": [
            "100000\n"
          ]
        }
      ]
    },
    {
      "cell_type": "markdown",
      "source": [
        "✅ 16. Abstract Animal Sound"
      ],
      "metadata": {
        "id": "nEzKkle01i9P"
      }
    },
    {
      "cell_type": "code",
      "source": [
        "from abc import ABC, abstractmethod\n",
        "\n",
        "class Animal(ABC):\n",
        "    @abstractmethod\n",
        "    def sound(self):\n",
        "        pass\n",
        "\n",
        "class Cow(Animal):\n",
        "    def sound(self):\n",
        "        return \"Moo\"\n",
        "\n",
        "class Sheep(Animal):\n",
        "    def sound(self):\n",
        "        return \"Baa\"\n",
        "\n",
        "print(Cow().sound())\n",
        "print(Sheep().sound())\n"
      ],
      "metadata": {
        "colab": {
          "base_uri": "https://localhost:8080/"
        },
        "id": "7waL_0gl1njr",
        "outputId": "fa82e81b-7295-4433-de16-caf9867534db"
      },
      "execution_count": 29,
      "outputs": [
        {
          "output_type": "stream",
          "name": "stdout",
          "text": [
            "Moo\n",
            "Baa\n"
          ]
        }
      ]
    },
    {
      "cell_type": "markdown",
      "source": [
        "✅ 17. Book Info"
      ],
      "metadata": {
        "id": "bWAX5abp1q6c"
      }
    },
    {
      "cell_type": "code",
      "source": [
        "class Book:\n",
        "    def __init__(self, title, author, year):\n",
        "        self.title = title\n",
        "        self.author = author\n",
        "        self.year = year\n",
        "\n",
        "    def get_book_info(self):\n",
        "        return f\"{self.title} by {self.author}, published in {self.year}\"\n",
        "\n",
        "b = Book(\"Atomic Habits\", \"James Clear\", 2018)\n",
        "print(b.get_book_info())\n"
      ],
      "metadata": {
        "colab": {
          "base_uri": "https://localhost:8080/"
        },
        "id": "Fod5yJCb1thF",
        "outputId": "3e7465bb-da5e-4ab5-8c52-32f4ebfe0165"
      },
      "execution_count": 30,
      "outputs": [
        {
          "output_type": "stream",
          "name": "stdout",
          "text": [
            "Atomic Habits by James Clear, published in 2018\n"
          ]
        }
      ]
    },
    {
      "cell_type": "markdown",
      "source": [
        "✅ 18. House and Mansion Class"
      ],
      "metadata": {
        "id": "kSh2rNju1ylx"
      }
    },
    {
      "cell_type": "code",
      "source": [
        "class House:\n",
        "    def __init__(self, address, price):\n",
        "        self.address = address\n",
        "        self.price = price\n",
        "\n",
        "class Mansion(House):\n",
        "    def __init__(self, address, price, rooms):\n",
        "        super().__init__(address, price)\n",
        "        self.rooms = rooms\n",
        "\n",
        "m = Mansion(\"Delhi\", 50000000, 10)\n",
        "print(m.address, m.price, m.rooms)\n"
      ],
      "metadata": {
        "colab": {
          "base_uri": "https://localhost:8080/"
        },
        "id": "bOizXcO01zSE",
        "outputId": "02a87e5c-8d91-4543-96f2-b74f08124183"
      },
      "execution_count": 31,
      "outputs": [
        {
          "output_type": "stream",
          "name": "stdout",
          "text": [
            "Delhi 50000000 10\n"
          ]
        }
      ]
    }
  ]
}