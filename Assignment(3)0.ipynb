{
  "nbformat": 4,
  "nbformat_minor": 0,
  "metadata": {
    "colab": {
      "provenance": []
    },
    "kernelspec": {
      "name": "python3",
      "display_name": "Python 3"
    },
    "language_info": {
      "name": "python"
    }
  },
  "cells": [
    {
      "cell_type": "code",
      "execution_count": null,
      "metadata": {
        "id": "Bf40alYyOG2C"
      },
      "outputs": [],
      "source": [
        "1. Difference between a Function and a Method in Python\n",
        "\n",
        "Function: A block of code that performs a specific task and is defined using def or lambda. Functions can be independent.\n",
        "\n",
        "Method: A function that is associated with an object/class and is called using the dot (.) notation."
      ]
    },
    {
      "cell_type": "code",
      "source": [
        "#Function\n",
        "def greet(name):\n",
        "  return \"Hello\" + name\n",
        "print(greet(\"Priya\"))"
      ],
      "metadata": {
        "colab": {
          "base_uri": "https://localhost:8080/"
        },
        "id": "fl46QG53O3e4",
        "outputId": "793ff07c-23c3-4339-e259-f04a3616dad0"
      },
      "execution_count": 2,
      "outputs": [
        {
          "output_type": "stream",
          "name": "stdout",
          "text": [
            "HelloPriya\n"
          ]
        }
      ]
    },
    {
      "cell_type": "code",
      "source": [
        "#Method (called on a string object)\n",
        "text = \"hello\"\n",
        "print(text.upper()) #upper is a method"
      ],
      "metadata": {
        "colab": {
          "base_uri": "https://localhost:8080/"
        },
        "id": "LlmoP1yVPfaa",
        "outputId": "4bfa4743-e277-431d-f0f7-ebaac2c6ff9a"
      },
      "execution_count": 3,
      "outputs": [
        {
          "output_type": "stream",
          "name": "stdout",
          "text": [
            "HELLO\n"
          ]
        }
      ]
    },
    {
      "cell_type": "markdown",
      "source": [
        "2. Function Arguments and Parameters\n",
        "\n",
        "Parameter: The variable listed inside the function definition.\n",
        "\n",
        "Argument: The actual value passed to the function when calling it."
      ],
      "metadata": {
        "id": "rF_vKPXhPuXT"
      }
    },
    {
      "cell_type": "code",
      "source": [
        "def add(a,b): #a, b are parameters\n",
        " return a + b\n",
        "\n",
        "add(2,3) #2 and 3 are arguments"
      ],
      "metadata": {
        "colab": {
          "base_uri": "https://localhost:8080/"
        },
        "id": "HFCjzCVrP4e-",
        "outputId": "195128b7-c4a6-4d97-b502-73db012b562e"
      },
      "execution_count": 5,
      "outputs": [
        {
          "output_type": "execute_result",
          "data": {
            "text/plain": [
              "5"
            ]
          },
          "metadata": {},
          "execution_count": 5
        }
      ]
    },
    {
      "cell_type": "markdown",
      "source": [
        "3. Ways to Define and Call a Function in Python\n",
        "\n",
        "Defining: Use def, lambda\n",
        "\n",
        "Calling: Just use the function name with parentheses and pass arguments."
      ],
      "metadata": {
        "id": "sl1Y4W8DQLk7"
      }
    },
    {
      "cell_type": "code",
      "source": [
        "def square (x):\n",
        "  return x * x\n",
        "  print (square(5))\n",
        "\n",
        "  #Lambda\n",
        "  cube = lambda x: x**3\n",
        "  print(cube(2))"
      ],
      "metadata": {
        "id": "YGfhO8PwQVzh"
      },
      "execution_count": 8,
      "outputs": []
    },
    {
      "cell_type": "markdown",
      "source": [
        "4. Purpose of return Statement\n",
        "\n",
        "It sends a result back to the caller and exits the function."
      ],
      "metadata": {
        "id": "5G3dHl85Qv55"
      }
    },
    {
      "cell_type": "code",
      "source": [
        "def multiply(x,y):\n",
        "  return x * y\n",
        "\n",
        "  result = multiply(3,4)\n",
        "  print(result)"
      ],
      "metadata": {
        "id": "qvXGd34fQ04R"
      },
      "execution_count": 12,
      "outputs": []
    },
    {
      "cell_type": "markdown",
      "source": [
        "5. What are iterators in Python and how do they differ from iterables?\n",
        "\n",
        "Iterable: An object you can loop over (e.g., list, tuple, string).\n",
        "\n",
        "Iterator: An object with a __next__() method; it produces items one at a time."
      ],
      "metadata": {
        "id": "5VhLYs_OYhkg"
      }
    },
    {
      "cell_type": "code",
      "source": [
        "nums = [1,2,3] #Iterable\n",
        "it = iter(nums) #Iterator\n",
        "\n",
        "print(next(it))\n",
        "print(next(it))\n"
      ],
      "metadata": {
        "colab": {
          "base_uri": "https://localhost:8080/"
        },
        "id": "oVfjqG_nY5O6",
        "outputId": "fc378132-986c-4621-f9bb-b9902f19e529"
      },
      "execution_count": 13,
      "outputs": [
        {
          "output_type": "stream",
          "name": "stdout",
          "text": [
            "1\n",
            "2\n"
          ]
        }
      ]
    },
    {
      "cell_type": "markdown",
      "source": [
        " 6. Explain the concept of generators in Python and how they are defined.\n",
        "\n",
        " Generators are functions that yield values one at a time using the yield keyword, instead of returning all at once."
      ],
      "metadata": {
        "id": "97XVRuFmb9Wz"
      }
    },
    {
      "cell_type": "code",
      "source": [
        "def countdown(n):\n",
        "  while n > 0:\n",
        "    yield n\n",
        "    n-=1\n",
        "\n",
        "for i in countdown(3):\n",
        "  print(i)"
      ],
      "metadata": {
        "colab": {
          "base_uri": "https://localhost:8080/"
        },
        "id": "PHM7FX5OcHGC",
        "outputId": "e6484103-1985-40d8-fa8f-8a7dfe927027"
      },
      "execution_count": 14,
      "outputs": [
        {
          "output_type": "stream",
          "name": "stdout",
          "text": [
            "3\n",
            "2\n",
            "1\n"
          ]
        }
      ]
    },
    {
      "cell_type": "code",
      "source": [
        "7. What are the advantages of using generators over regular functions?\n",
        "\n",
        "Memory efficient: Generate values lazily.\n",
        "\n",
        "Faster: Especially with large datasets.\n",
        "\n",
        "Cleaner code: When handling streams of data."
      ],
      "metadata": {
        "id": "O8CwvZzAcsPv"
      },
      "execution_count": null,
      "outputs": []
    },
    {
      "cell_type": "code",
      "source": [
        "def even_numbers(n):\n",
        "  for i in range(n):\n",
        "    if i % 2 == 0:\n",
        "      yield i"
      ],
      "metadata": {
        "id": "Rz1Bo_FjdFj2"
      },
      "execution_count": 16,
      "outputs": []
    },
    {
      "cell_type": "markdown",
      "source": [
        "8. What is a lambda function in Python and when is it typically used?\n",
        "\n",
        "An anonymous, inline function defined using the lambda keyword. Useful for short, throwaway functions."
      ],
      "metadata": {
        "id": "zrxEVTTQdSvj"
      }
    },
    {
      "cell_type": "code",
      "source": [
        "square = lambda x: x * x\n",
        "print(square(5))"
      ],
      "metadata": {
        "colab": {
          "base_uri": "https://localhost:8080/"
        },
        "id": "DlhiuF8Ida76",
        "outputId": "35227abd-7913-4cd9-e5aa-044938c2e8b5"
      },
      "execution_count": 17,
      "outputs": [
        {
          "output_type": "stream",
          "name": "stdout",
          "text": [
            "25\n"
          ]
        }
      ]
    },
    {
      "cell_type": "markdown",
      "source": [
        " 9. Explain the purpose and usage of the `map()` function in Python.\n",
        "\n",
        " map() applies a function to every item in an iterable and returns a map object (iterator)."
      ],
      "metadata": {
        "id": "L7HD8xcud8MN"
      }
    },
    {
      "cell_type": "code",
      "source": [
        "nums = [1, 2, 3]\n",
        "squared = map(lambda x: x**2, nums)\n",
        "print(list(squared)) #[1,4,9]"
      ],
      "metadata": {
        "colab": {
          "base_uri": "https://localhost:8080/"
        },
        "id": "DghRj_9meWuZ",
        "outputId": "0357c5ca-69eb-4caa-cb3f-535e71f7d557"
      },
      "execution_count": 18,
      "outputs": [
        {
          "output_type": "stream",
          "name": "stdout",
          "text": [
            "[1, 4, 9]\n"
          ]
        }
      ]
    },
    {
      "cell_type": "markdown",
      "source": [
        "10. What is the difference between `map()`, `reduce()`, and `filter()` functions in Python?\n",
        "\n",
        "map() Apply a function to each item\n",
        "filter() Filter items using a functions that returns boolean\n",
        "reduce() Reduce to a single value by cumulative function.\n"
      ],
      "metadata": {
        "id": "eMuUXs13e1wt"
      }
    },
    {
      "cell_type": "code",
      "source": [
        "from functools import reduce\n",
        "\n",
        "data = [1, 2, 3, 4]\n",
        "print (list(map(lambda x: x*2, data)))\n",
        "print(list(filter(lambda x: x%2==0, data)))\n",
        "print(reduce(lambda x,y: x+y, data))"
      ],
      "metadata": {
        "colab": {
          "base_uri": "https://localhost:8080/"
        },
        "id": "JubwqmLYfZSp",
        "outputId": "6e46090c-c22c-4585-bff2-c1a0f7d05018"
      },
      "execution_count": 20,
      "outputs": [
        {
          "output_type": "stream",
          "name": "stdout",
          "text": [
            "[2, 4, 6, 8]\n",
            "[2, 4]\n",
            "10\n"
          ]
        }
      ]
    },
    {
      "cell_type": "markdown",
      "source": [
        "11. Using pen & Paper write the internal mechanism for sum operation using  reduce function on this given  list:[47,11,42,13];\n",
        "\n",
        "Given list [47, 11, 42, 13]\n",
        "What reduce does for sum:\n",
        "Step-by-step:"
      ],
      "metadata": {
        "id": "sQ3ZidZogVKQ"
      }
    },
    {
      "cell_type": "code",
      "source": [
        "Step 1: 47 + 11 = 58\n",
        "Step 2: 58 + 42 = 100\n",
        "Step 3: 100 + 13 = 113\n",
        "Final Output = 113"
      ],
      "metadata": {
        "id": "d9GkDEUlhXma"
      },
      "execution_count": null,
      "outputs": []
    },
    {
      "cell_type": "markdown",
      "source": [
        "Practical Questions:\n",
        "\n",
        "1. 1. Write a Python function that takes a list of numbers as input and returns the sum of all even numbers in\n",
        "the list.\n"
      ],
      "metadata": {
        "id": "d7_VgVmLiHUs"
      }
    },
    {
      "cell_type": "code",
      "source": [
        "def sum_of_even(lst):\n",
        "  return sum(filter(lambda x: x % 2 == 0, lst))\n",
        "\n",
        "print(sum_of_even([1, 2, 3, 4, 5, 6]))"
      ],
      "metadata": {
        "colab": {
          "base_uri": "https://localhost:8080/"
        },
        "id": "7okewLecimMD",
        "outputId": "342ec658-fb17-4dde-a4b3-a81c10dac287"
      },
      "execution_count": 22,
      "outputs": [
        {
          "output_type": "stream",
          "name": "stdout",
          "text": [
            "12\n"
          ]
        }
      ]
    },
    {
      "cell_type": "markdown",
      "source": [
        "3.  3. Implement a Python function that takes a list of integers and returns a new list containing the squares of\n",
        "each number"
      ],
      "metadata": {
        "id": "Ne7pjI3rwrPi"
      }
    },
    {
      "cell_type": "code",
      "source": [
        "def square_list(lst):\n",
        "  return list(map(lambda x: x** 2, lst))\n",
        "  print(square_list([1,2,3]))"
      ],
      "metadata": {
        "id": "oYOfxi7NxuOX"
      },
      "execution_count": 2,
      "outputs": []
    },
    {
      "cell_type": "markdown",
      "source": [
        " 4. Write a Python function that checks if a given number is prime or not from 1 to 200"
      ],
      "metadata": {
        "id": "Y2s9bH9SyCbf"
      }
    },
    {
      "cell_type": "code",
      "source": [
        "def is_prime(n):\n",
        "  if n < 2:\n",
        "    return False\n",
        "    for i in range(2, int(n**0.5)+1):\n",
        "      if n % i == 0:\n",
        "        return False\n",
        "        return True\n",
        "\n",
        "        prime = list(filter(is_prime, range(1,201)))\n",
        "        print(primes)"
      ],
      "metadata": {
        "id": "PW5WHwxzyDZR"
      },
      "execution_count": 4,
      "outputs": []
    },
    {
      "cell_type": "markdown",
      "source": [
        "5. Create an iterator class in Python that generates the Fibonacci sequence up to a specified number of\n",
        "terms."
      ],
      "metadata": {
        "id": "QE7mIN93ypuV"
      }
    },
    {
      "cell_type": "code",
      "source": [
        "class FibonacciIterato:\n",
        "  def __init__(self, max_terms):\n",
        "    self.max_terms = max_terms\n",
        "    self.a, self.b = 0,1\n",
        "    self.count = 0\n",
        "\n",
        "    def __itern__(self):\n",
        "      return self\n",
        "\n",
        "      def __next__(self):\n",
        "        if self.count >= self.max_terms:\n",
        "          raise StopIteration\n",
        "          value = self.Aself.a, self.b, self.a + self.b\n",
        "          self.count += 1\n",
        "          return value\n",
        "\n",
        "          for num in FibonacciIterator(10):\n",
        "            print(num)"
      ],
      "metadata": {
        "id": "ktyS5PulyrYK"
      },
      "execution_count": 6,
      "outputs": []
    },
    {
      "cell_type": "markdown",
      "source": [
        " 6. Write a generator function in Python that yields the powers of 2 up to a given exponent."
      ],
      "metadata": {
        "id": "z_SyQUsizkS7"
      }
    },
    {
      "cell_type": "code",
      "source": [
        "def powers_of_two(n):\n",
        "  for i in range(n + 1):\n",
        "    yield 2 ** i\n",
        "\n",
        "for num in powers_of_two(5):\n",
        "  print(num)"
      ],
      "metadata": {
        "colab": {
          "base_uri": "https://localhost:8080/"
        },
        "id": "liJi2xsuzoAJ",
        "outputId": "ac1567df-9cd0-47f2-b906-c4d881316e98"
      },
      "execution_count": 8,
      "outputs": [
        {
          "output_type": "stream",
          "name": "stdout",
          "text": [
            "1\n",
            "2\n",
            "4\n",
            "8\n",
            "16\n",
            "32\n"
          ]
        }
      ]
    },
    {
      "cell_type": "markdown",
      "source": [
        " 7. Implement a generator function that reads a file line by line and yields each line as a string."
      ],
      "metadata": {
        "id": "8AdsDHPv0B2c"
      }
    },
    {
      "cell_type": "code",
      "source": [
        "def read_file_lines(filename):\n",
        "  with open(filename, 'r') as file:\n",
        "    for line in file:\n",
        "      yield line.strip()"
      ],
      "metadata": {
        "id": "FJOG78Qs0FSA"
      },
      "execution_count": 9,
      "outputs": []
    },
    {
      "cell_type": "markdown",
      "source": [
        "8. Use a lambda function in Python to sort a list of tuples based on the second element of each tuple."
      ],
      "metadata": {
        "id": "1_xx_VRa0XHy"
      }
    },
    {
      "cell_type": "code",
      "source": [
        "data = [(1,3), (4,1), (2,2)]\n",
        "sorted_data = sorted(data, key=lambda x: x[1])\n",
        "print(sorted_data)"
      ],
      "metadata": {
        "colab": {
          "base_uri": "https://localhost:8080/"
        },
        "id": "QQPNITqK0agi",
        "outputId": "f21db86e-3c78-46c1-c071-724a5abc66d3"
      },
      "execution_count": 10,
      "outputs": [
        {
          "output_type": "stream",
          "name": "stdout",
          "text": [
            "[(4, 1), (2, 2), (1, 3)]\n"
          ]
        }
      ]
    },
    {
      "cell_type": "markdown",
      "source": [
        "9. Write a Python program that uses `map()` to convert a list of temperatures from Celsius to Fahrenheit."
      ],
      "metadata": {
        "id": "sXTDP1w01HtS"
      }
    },
    {
      "cell_type": "code",
      "source": [
        "celsius = [0, 20, 37, 100]\n",
        "fahrenheit = list(map(lambda c: (c * 9/5) + 32, celsius))\n",
        "print(fahrenheit)"
      ],
      "metadata": {
        "colab": {
          "base_uri": "https://localhost:8080/"
        },
        "id": "2fsJ_YNm1NEu",
        "outputId": "27f2736a-740f-4e15-fcc0-a68d1f2d8535"
      },
      "execution_count": 11,
      "outputs": [
        {
          "output_type": "stream",
          "name": "stdout",
          "text": [
            "[32.0, 68.0, 98.6, 212.0]\n"
          ]
        }
      ]
    },
    {
      "cell_type": "markdown",
      "source": [
        " 10. Create a Python program that uses `filter()` to remove all the vowels from a given string."
      ],
      "metadata": {
        "id": "M1GY7o7l2Nlo"
      }
    },
    {
      "cell_type": "code",
      "source": [
        "def remove_vowels(s):\n",
        "  return ''.join(filter(lambda X: x.lower() not in 'aeiou', s))\n",
        "  print(remove_vowels(\"Hello World\"))"
      ],
      "metadata": {
        "id": "rWPfY5py2SzX"
      },
      "execution_count": 13,
      "outputs": []
    },
    {
      "cell_type": "markdown",
      "source": [
        " 11) Imagine an accounting routine used in a book shop. It works on a list with sublists, which look like this:"
      ],
      "metadata": {
        "id": "50eL548d3WLo"
      }
    },
    {
      "cell_type": "code",
      "source": [
        "orders = [\n",
        "    [34587, \"Learning Python, Mark Lutz\", 4, 40.95],\n",
        "    [98762, \"Programming Python, Mark Lutz\", 5, 56.80],\n",
        "    [77226, \"Head First Python, Paul Barry\", 3, 32.95],\n",
        "    [88112, \"Einfuhrung in Python3, Bernd Klein\", 3, 24.99]\n",
        "]\n",
        "\n",
        "result = list(map(lambda order: (order[0], order[2]*order[3] if order[2]*order[3] >= 100 else order[2]*order[3]+10), orders))\n",
        "\n",
        "print(result)"
      ],
      "metadata": {
        "colab": {
          "base_uri": "https://localhost:8080/"
        },
        "id": "8gKiRyeD3aEp",
        "outputId": "a67cf559-04bb-411c-efdb-284e6ab2510f"
      },
      "execution_count": 15,
      "outputs": [
        {
          "output_type": "stream",
          "name": "stdout",
          "text": [
            "[(34587, 163.8), (98762, 284.0), (77226, 108.85000000000001), (88112, 84.97)]\n"
          ]
        }
      ]
    }
  ]
}